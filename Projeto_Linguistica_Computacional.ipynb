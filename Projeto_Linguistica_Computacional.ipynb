{
  "nbformat": 4,
  "nbformat_minor": 0,
  "metadata": {
    "colab": {
      "provenance": [],
      "mount_file_id": "1Wu4c3Fsjw3Xm8KhCk_PP6a5PodVWhamu",
      "authorship_tag": "ABX9TyNlrX19JjyWjh2AAz+RwN02",
      "include_colab_link": true
    },
    "kernelspec": {
      "name": "python3",
      "display_name": "Python 3"
    },
    "language_info": {
      "name": "python"
    }
  },
  "cells": [
    {
      "cell_type": "markdown",
      "metadata": {
        "id": "view-in-github",
        "colab_type": "text"
      },
      "source": [
        "<a href=\"https://colab.research.google.com/github/Pedrovalad/Pedro_Valadares_DS/blob/main/Projeto_Linguistica_Computacional.ipynb\" target=\"_parent\"><img src=\"https://colab.research.google.com/assets/colab-badge.svg\" alt=\"Open In Colab\"/></a>"
      ]
    },
    {
      "cell_type": "markdown",
      "source": [
        "# Linguística Computacional\n",
        "\n",
        "Este projeto passa por vários pontos importantes para o campo da **Linguística Computacional**, em especial do processamento de linguagem natural.\n",
        "\n",
        "Aqui foram desenvolvidas e implementadas diferentes técnicas e ferramentas. Dentre elas, podemos citar:\n",
        "\n",
        "- Limpeza de corpus, com identificação e exclusão de stop words, desenvolvimento de um stemmer e de um concordanciador.\n",
        "\n",
        "- Análise estatística do corpus e etiquetagem morfossitática.\n",
        "\n",
        "- Avaliação de relevância de expressões no corpus:\n",
        "  - TF (Frequência de Termo)\n",
        "  - IDF (Frequência Inversa de Documentos)\n",
        "  - TF-IDF (Frequência de termo-Frequência Inversa)\n",
        "\n",
        "- Implementação de modelos probalísticos de linguagens (N-Gramas e Cadeias de Markov)\n",
        "\n",
        "- Criação de um previsor de palavras baseado em N-Gramas\n",
        "\n",
        "- Implementação de um Classificador Bayesiano Ingênuo (*Naive Bayes() para detecção de spams.\n",
        "\n",
        "As soluções e análises do projeto foram desenvolvidas utilizando principalmente as bibliotecas NLTK e spaCy."
      ],
      "metadata": {
        "id": "0gN68s7DQ5z7"
      }
    },
    {
      "cell_type": "markdown",
      "source": [
        "# Técnicas quantitativas de análise de texto.\n",
        "\n",
        "Nesse primeira parte, vamos explorar o potencial de técnicas quantitativas de análise de texto para avaliação e análise de corpus.\n",
        "\n",
        "Primeira etapa: fazer o download do texto Ubirajara, de José de Alencar, no site no Projeto Gutenberg (aqui [texto do link](https://www.gutenberg.org/cache/epub/38496/pg38496.txt))\n",
        "\n",
        "Ao salvar o arquivo, verificar os seguintes pontos:\n",
        "\n",
        "1) Qual é a codificação dos caracteres?\n",
        "\n",
        "2) Existe algo como um cabeçalho, notas de rodapé ou de fim, informações editorias, etc?\n",
        "\n",
        "3) Qual o tamanho do arquivo?"
      ],
      "metadata": {
        "id": "NPzq-ddlQGxy"
      }
    },
    {
      "cell_type": "code",
      "execution_count": 1,
      "metadata": {
        "id": "LK3nbSLjiEkj"
      },
      "outputs": [],
      "source": [
        "#Criar função para ler o arquivo txt\n",
        "\n",
        "def ler (nome_arq):\n",
        "  arquivo = open(nome_arq, 'r', encoding='utf-8')\n",
        "  conteudo_arq = arquivo.read()\n",
        "  arquivo.close()\n",
        "  return conteudo_arq"
      ]
    },
    {
      "cell_type": "code",
      "source": [
        "#Ler o arquivo e contar os caracteres\n",
        "\n",
        "texto = ler('/content/drive/MyDrive/Ubirajara.txt')\n",
        "print(len(texto))"
      ],
      "metadata": {
        "colab": {
          "base_uri": "https://localhost:8080/"
        },
        "id": "Cs7QOIwHm4KI",
        "outputId": "6b4585a4-764b-488e-9b1c-a0ec8bbcf2cd"
      },
      "execution_count": 2,
      "outputs": [
        {
          "output_type": "stream",
          "name": "stdout",
          "text": [
            "219835\n"
          ]
        }
      ]
    },
    {
      "cell_type": "markdown",
      "source": [
        "# Concordanciador\n",
        "\n",
        "Uma forma interessante de utilizar a variável 'texto' que acabamos de criar é realizar buscas por expressões no conteúdo e apresentar o contexto onde elas se encontram.\n",
        "\n",
        "Uma forma de fazer isso é por meio de um concordanciador. Na linguística de corpus, os concordanciadores são utilizados para listar as ocorrências de uma determinada palavra ou frase, a qual fica centralizada, com uma quantidade definida de contextos, tanto da esquerda como da direita, fornecendo uma visualização privilegiada do item."
      ],
      "metadata": {
        "id": "grjb1wn2ZeyR"
      }
    },
    {
      "cell_type": "code",
      "source": [
        "#Criar um concordanciador\n",
        "\n",
        "def concordanciador (alvo, texto):\n",
        "  texto = texto.replace('\\n', ' ')\n",
        "  texto = texto.replace('\\t', ' ')\n",
        "# essa primeira parte tem o objetivo de eliminar quebras de linha (\\n) e tabulações (\\t) para não atrapalhar a disposição visual do texto\n",
        "  ocorrencias = list()\n",
        "  encontrado_aqui = texto.find(alvo,0)\n",
        "\n",
        "  while encontrado_aqui > 0:\n",
        "    pos_inicial = encontrado_aqui - (40-len(alvo)//2)\n",
        "    ocorrencias.append(texto[pos_inicial: pos_inicial + 80])\n",
        "    encontrado_aqui = texto.find(alvo, encontrado_aqui +1)\n",
        "  return ocorrencias\n"
      ],
      "metadata": {
        "id": "KDNpy3yjobgj"
      },
      "execution_count": 3,
      "outputs": []
    },
    {
      "cell_type": "code",
      "source": [
        "# Testar o concordanciador\n",
        "\n",
        "resultados = concordanciador('serpente',texto)\n",
        "for i in resultados:\n",
        "  print(i)\n",
        "\n"
      ],
      "metadata": {
        "colab": {
          "base_uri": "https://localhost:8080/"
        },
        "id": "Bi1dZR0Xqvx1",
        "outputId": "2a14aa25-bfcd-4224-9906-9e1fb75b4377"
      },
      "execution_count": 4,
      "outputs": [
        {
          "output_type": "stream",
          "name": "stdout",
          "text": [
            "e, Jaguarê não te quer matar como a serpente que ataca o descuidado caçador. Dez\n",
            "reiro invencivel que tem por arma a serpente. Reconhece o teu vencedor, Pojucan,\n",
            "zes ella escapou-lhe da mão, como a serpente das garras do gavião.  «Mais uma ve\n",
            "reiro terrivel que tem por arma uma serpente.»         *       *       *       *\n",
            "«Agora eu queria ter no coração uma serpente para morder aquella que me roubou o\n",
            " porque elle tem os olhos da grande serpente de fogo, que vôa como o raio de Tup\n",
            "uerreiros ferozes, filhos da grande serpente do mar.  Um dia esses guerreiros sa\n",
            "la, muito cheiroza, a qual a grande serpente creava no bucho.  Os Tupinambás faz\n",
            " na tromba. Elle fujia, esticando a serpente; e a serpente encolhendo-se o arras\n",
            "le fujia, esticando a serpente; e a serpente encolhendo-se o arrastava até á bei\n",
            " pelo meio.  O velho tapir rompeu a serpente como se rompe uma corda de piassaba\n",
            " a liberdade. Ella tem a astucia da serpente e seu veneno.  --Eu era a cobra d'a\n",
            "to.  Vem depois Arariboia, a grande serpente das lagôas; Cauatá, o corredor das \n",
            "uas pontas girou em sua mão, como a serpente que se enrosca nos ares silvando.  \n",
            "iro invencivel que tem por arma uma serpente.  «Eu sou Ubirajara, o senhor das n\n"
          ]
        }
      ]
    },
    {
      "cell_type": "code",
      "source": [
        "# Verificar a quantidade de ocorrências da palavra \"serpente\" no texto\n",
        "\n",
        "len(resultados)"
      ],
      "metadata": {
        "colab": {
          "base_uri": "https://localhost:8080/"
        },
        "id": "x4Ld-HDerXJv",
        "outputId": "1f2f8b4a-a795-4537-878a-9830653b6cba"
      },
      "execution_count": 5,
      "outputs": [
        {
          "output_type": "execute_result",
          "data": {
            "text/plain": [
              "15"
            ]
          },
          "metadata": {},
          "execution_count": 5
        }
      ]
    },
    {
      "cell_type": "markdown",
      "source": [
        "# Limpeza do corpus\n",
        "\n",
        "A primeira etapa é separar o corpus em palavras. Em linguística computacional, a forma de isolar palavras é baseada simplesmente nos espaços em branco. Ou sejo, uma palavra é um conjunto de caracteres entre dois espaços.\n",
        "\n",
        "Apesar de ser um método relativamente eficiente e rápido de decompor o corpus, ele pode acarretar alguns problemas.\n",
        "\n",
        "Um deles é a questão da pontuação. Ao dividir palavras por espaços em branco, determinados vocábulos acabarão incorporando os sinais de pontuação. Afinal, não há espaços entre esses sinais e os termos que os antecedem.\n",
        "\n",
        "Outro ponto que deve ser observado é a conversão de todos os caracteres para minúsculas para permitir, por exemplo, a buscas por expressões idênticas ('Casa' e 'casa').\n",
        "\n",
        "Além disso, essa conversão facilita a ordenação das palavras, pois a maioria dos métodos tende a posicionar as letras maiúsculas primeiro."
      ],
      "metadata": {
        "id": "mvdkxEgrrgxs"
      }
    },
    {
      "cell_type": "code",
      "source": [
        "# Dividir a string de todo conteúdo de um arquivo de texto em palavras separadas por espaço\n",
        "\n",
        "palavras = texto.split()"
      ],
      "metadata": {
        "id": "-LOqBRShr-TI"
      },
      "execution_count": 6,
      "outputs": []
    },
    {
      "cell_type": "code",
      "source": [
        "# Tratar palavras que incorporam marcas de pontuação e colocar palavras em minúscula\n",
        "\n",
        "def limpar(lista):\n",
        "  lixo = '.,:;?!\"`()[]\\/|#$%^&*'\n",
        "  return[x.strip(lixo).lower() for x in lista]\n",
        "\n"
      ],
      "metadata": {
        "id": "wfVG8pryt9kI"
      },
      "execution_count": 7,
      "outputs": []
    },
    {
      "cell_type": "code",
      "source": [
        "# Testar a função com corpus ficticio\n",
        "\n",
        "corpus_sujo = ['banana;', 'maçã', 'abaca.te', ':Melancia']\n",
        "print(limpar(corpus_sujo))"
      ],
      "metadata": {
        "colab": {
          "base_uri": "https://localhost:8080/"
        },
        "id": "tfhm9YSLvHFN",
        "outputId": "2c22cb64-11b7-446e-aa55-960345a285cc"
      },
      "execution_count": 8,
      "outputs": [
        {
          "output_type": "stream",
          "name": "stdout",
          "text": [
            "['banana', 'maçã', 'abaca.te', 'melancia']\n"
          ]
        }
      ]
    },
    {
      "cell_type": "markdown",
      "source": [
        "Note que a função resolve a questão dos sinais de pontuação incorporados no início e no fim das palavras. Contudo, o método strip() não é capaz de remover as pontuações que aparecem no meio dos vocábulos.\n",
        "\n",
        "Para solucionar esse problema, iremos utilizar o método isalpha(), que permite filtrar as strings que não sejam compostas exclusivamente de letras.\n",
        "\n",
        "Aqui teremos outro entrave, pois o método irá eliminar números e também palavras hifenizadas. Para lidar com isso, criaremos uma dupla filtragem."
      ],
      "metadata": {
        "id": "4KStILOTvL6r"
      }
    },
    {
      "cell_type": "code",
      "source": [
        "# Ajustar a função 'limpar' para incorporar o método isalpha()\n",
        "def limpar(lista):\n",
        "  lixo = '.,:;?!\"`()[]\\/|#$%^&*'\n",
        "  quase_limpo = [x.strip(lixo).lower() for x in lista]\n",
        "  return [x for x in quase_limpo if x.isalpha() or '-' in x]"
      ],
      "metadata": {
        "id": "tTmwASPAwBMt"
      },
      "execution_count": 9,
      "outputs": []
    },
    {
      "cell_type": "code",
      "source": [
        "# Testar a nova função\n",
        "\n",
        "corpus_sujo = ['banana;', 'maçã', 'abaca.te', ':Melancia', 'cuide-se']\n",
        "print(limpar(corpus_sujo))"
      ],
      "metadata": {
        "colab": {
          "base_uri": "https://localhost:8080/"
        },
        "id": "i6lwRsDrws5g",
        "outputId": "89ffb3a8-b8d1-4ec2-993f-727892b0bae8"
      },
      "execution_count": 10,
      "outputs": [
        {
          "output_type": "stream",
          "name": "stdout",
          "text": [
            "['banana', 'maçã', 'melancia', 'cuide-se']\n"
          ]
        }
      ]
    },
    {
      "cell_type": "code",
      "source": [
        "# Aplicar a função 'limpar' ao texto Ubirajara e verificar a quantidade de palavras\n",
        "\n",
        "# len(palavras) antes da aplicação da função: 37139\n",
        "\n",
        "palavras = limpar(palavras)\n",
        "len(palavras)\n",
        "\n",
        "palavras_limpas = 37139 - len(palavras)\n",
        "print(\"A limpeza inicial do corpus eliminou\", palavras_limpas, \"termos.\")\n"
      ],
      "metadata": {
        "colab": {
          "base_uri": "https://localhost:8080/"
        },
        "id": "PG4Ok6Ljw-Uw",
        "outputId": "7130cdaa-aa4f-4fbf-bdcf-f812a607332f"
      },
      "execution_count": 11,
      "outputs": [
        {
          "output_type": "stream",
          "name": "stdout",
          "text": [
            "A limpeza inicial do corpus eliminou 1120 termos.\n"
          ]
        }
      ]
    },
    {
      "cell_type": "markdown",
      "source": [
        "# Contagem de palavras\n",
        "\n",
        "A análise quantitativa, por meio de contagens sobre unidades do corpus, oferece uma descrição rápida e concisa de uma série de características do corpus.\n",
        "\n",
        "Isso pode ser muito valioso para fins de estudos linguísticos e estilísticos.\n",
        "\n",
        "Por meio dessa análise computacional, podemos verificar por exemplo:\n",
        "\n",
        "1) Vocabulário e riqueza lexical\n",
        "2) Classificação de palavras por ocorrência\n",
        "3) Hápax legômena\n"
      ],
      "metadata": {
        "id": "ckvqBWQfyA_o"
      }
    },
    {
      "cell_type": "code",
      "source": [
        "# Verificar vocabulário do texto e criar uma lista de palavras (sem repetição)\n",
        "\n",
        "vocabulario = set(palavras)\n",
        "len(vocabulario)"
      ],
      "metadata": {
        "colab": {
          "base_uri": "https://localhost:8080/"
        },
        "id": "tvoD8XESy_2J",
        "outputId": "d4c8a416-3827-45c1-8457-605c28b29b8c"
      },
      "execution_count": 12,
      "outputs": [
        {
          "output_type": "execute_result",
          "data": {
            "text/plain": [
              "6945"
            ]
          },
          "metadata": {},
          "execution_count": 12
        }
      ]
    },
    {
      "cell_type": "code",
      "source": [
        "# Calcular a riqueza lexical do corpus (nº de palavras distintas – types – dividido pelo número total de palavras– tokens)\n",
        "\n",
        "riqueza = len(vocabulario)/len(palavras)\n",
        "riqueza"
      ],
      "metadata": {
        "colab": {
          "base_uri": "https://localhost:8080/"
        },
        "id": "T5xOzqkLzj3m",
        "outputId": "876ff98f-e933-4a1d-c753-cea04fa67ac8"
      },
      "execution_count": 13,
      "outputs": [
        {
          "output_type": "execute_result",
          "data": {
            "text/plain": [
              "0.19281490324550932"
            ]
          },
          "metadata": {},
          "execution_count": 13
        }
      ]
    },
    {
      "cell_type": "code",
      "source": [
        "# Classificar palavras por ocorrência\n",
        "\n",
        "def ocorrencias(lista_palavras):\n",
        "  dicionario = defaultdict(int)\n",
        "  for p in lista_palavras:\n",
        "    dicionario[p]+=1\n",
        "  return dicionario\n",
        "\n"
      ],
      "metadata": {
        "id": "Amd_DqVQ0YSW"
      },
      "execution_count": 14,
      "outputs": []
    },
    {
      "cell_type": "code",
      "source": [
        "# Organizar o dicionário pelo número de ocorrências (pelo valor, não pelas chaves)\n",
        "\n",
        "from collections import defaultdict\n",
        "dic = ocorrencias(palavras)\n",
        "mf = sorted(dic.items(), key = lambda tupla:tupla[1],\n",
        "              reverse=True)[:10]\n",
        "for palavra, n in mf:\n",
        " print(palavra, '\\t', n)"
      ],
      "metadata": {
        "colab": {
          "base_uri": "https://localhost:8080/"
        },
        "id": "olZKkMbe2RCj",
        "outputId": "09761872-f92a-457c-c2df-ed099dbf30ad"
      },
      "execution_count": 15,
      "outputs": [
        {
          "output_type": "stream",
          "name": "stdout",
          "text": [
            "a \t 1473\n",
            "o \t 1378\n",
            "de \t 1199\n",
            "que \t 1118\n",
            "e \t 918\n",
            "do \t 685\n",
            "da \t 624\n",
            "os \t 490\n",
            "para \t 346\n",
            "não \t 335\n"
          ]
        }
      ]
    },
    {
      "cell_type": "markdown",
      "source": [
        "Os termos mais recorrentes do texto tem uma característica em comum: são palavras funcionais.\n",
        "\n",
        "Isso quer dizer que são palavras de reduzida contribuição semântica ou nocional, que servem prioritariamente para estabelecer relações entre outros vocábulos.\n",
        "\n",
        "As preposições, as conjuções, alguns pronomes e advérbios são exemplos desse tipo de termo.\n",
        "\n",
        "Ao se analisar esse tipo de palavras, não é possível ter qualquer ideia acerca do assunto central do texto.\n",
        "\n",
        "Por conta dessa baixa contribuição semântica, é comum que esses termos sejam excluídos dos corpus em análises computacionais relacionadas ao significado.\n",
        "\n",
        "No campo do processamento de linguagem natural (PLN), as palavras funcionais são chamadas de palavras vazias. Em geral, elas serão descartadas antes de passar para outras análises.\n",
        "\n",
        "A biblioteca NLTK traz uma lista de 203 palavras vazias (stop words) em português, que podem servir como um primeiro parâmetro para limpeza do corpus."
      ],
      "metadata": {
        "id": "7_qhAjP33AeF"
      }
    },
    {
      "cell_type": "code",
      "source": [
        "# Gerar lista de palavras vazias\n",
        "import nltk\n",
        "nltk.download('stopwords')\n",
        "\n",
        "from nltk.corpus import stopwords\n",
        "vazias = nltk.corpus.stopwords.words('portuguese')"
      ],
      "metadata": {
        "colab": {
          "base_uri": "https://localhost:8080/"
        },
        "id": "SYuintom4gro",
        "outputId": "a350b572-2155-4181-e663-6be2f21216b5"
      },
      "execution_count": 16,
      "outputs": [
        {
          "output_type": "stream",
          "name": "stderr",
          "text": [
            "[nltk_data] Downloading package stopwords to /root/nltk_data...\n",
            "[nltk_data]   Unzipping corpora/stopwords.zip.\n"
          ]
        }
      ]
    },
    {
      "cell_type": "code",
      "source": [
        "# Mapear as palavras mais frequentes do texto Ubirajara que não aparecem na lista de vazias\n",
        "\n",
        "frequentes_plenas = [x for x in mf if x[0].lower() not in vazias]\n",
        "len(frequentes_plenas)\n"
      ],
      "metadata": {
        "colab": {
          "base_uri": "https://localhost:8080/"
        },
        "id": "rAMKP7sC5Uw_",
        "outputId": "9edce042-d222-4fed-efd3-21f6117c1229"
      },
      "execution_count": 17,
      "outputs": [
        {
          "output_type": "execute_result",
          "data": {
            "text/plain": [
              "0"
            ]
          },
          "metadata": {},
          "execution_count": 17
        }
      ]
    },
    {
      "cell_type": "code",
      "source": [
        "# Ampliar a lista de palavras frequentes para 20\n",
        "\n",
        "mf = sorted(dic.items(), key=lambda tupla:tupla[1], reverse=True)[:40]\n",
        "for palavra, n in mf:\n",
        "  print(palavra, '\\t', n)"
      ],
      "metadata": {
        "colab": {
          "base_uri": "https://localhost:8080/"
        },
        "id": "Mq6ZUwI859BH",
        "outputId": "72348135-731e-4a4e-dc75-914133434f72"
      },
      "execution_count": 18,
      "outputs": [
        {
          "output_type": "stream",
          "name": "stdout",
          "text": [
            "a \t 1473\n",
            "o \t 1378\n",
            "de \t 1199\n",
            "que \t 1118\n",
            "e \t 918\n",
            "do \t 685\n",
            "da \t 624\n",
            "os \t 490\n",
            "para \t 346\n",
            "não \t 335\n",
            "dos \t 327\n",
            "se \t 290\n",
            "as \t 265\n",
            "como \t 243\n",
            "guerreiro \t 235\n",
            "um \t 229\n",
            "seu \t 215\n",
            "em \t 212\n",
            "na \t 205\n",
            "mais \t 205\n",
            "é \t 197\n",
            "sua \t 197\n",
            "no \t 195\n",
            "com \t 195\n",
            "ao \t 190\n",
            "the \t 187\n",
            "á \t 186\n",
            "chefe \t 172\n",
            "guerreiros \t 169\n",
            "uma \t 165\n",
            "por \t 158\n",
            "grande \t 154\n",
            "elle \t 152\n",
            "ubirajara \t 151\n",
            "mas \t 140\n",
            "nação \t 129\n",
            "quando \t 123\n",
            "of \t 122\n",
            "das \t 115\n",
            "era \t 113\n"
          ]
        }
      ]
    },
    {
      "cell_type": "code",
      "source": [
        "# Mapear novamente as palavras mais frequentes do texto Ubirajara que não aparecem na lista de vazias\n",
        "\n",
        "frequentes_plenas = [x for x in mf if x[0].lower() not in vazias]\n",
        "frequentes_plenas"
      ],
      "metadata": {
        "colab": {
          "base_uri": "https://localhost:8080/"
        },
        "id": "bdr1_gtw6Vv3",
        "outputId": "d5789d4b-a365-4565-8e34-9b68390742b8"
      },
      "execution_count": 19,
      "outputs": [
        {
          "output_type": "execute_result",
          "data": {
            "text/plain": [
              "[('guerreiro', 235),\n",
              " ('the', 187),\n",
              " ('á', 186),\n",
              " ('chefe', 172),\n",
              " ('guerreiros', 169),\n",
              " ('grande', 154),\n",
              " ('elle', 152),\n",
              " ('ubirajara', 151),\n",
              " ('nação', 129),\n",
              " ('of', 122)]"
            ]
          },
          "metadata": {},
          "execution_count": 19
        }
      ]
    },
    {
      "cell_type": "markdown",
      "source": [
        "# Hápax Legômena\n",
        "\n",
        "Esse é o termo técnico utilizado para designar as palavras com uma única ocorrência no corpus sob análise.\n",
        "\n",
        "Há diversos motivos para uma palavra aparecer somente uma vez: raridade do lexema, raridade da forma flexionada, neologia, erros de digitação, etc.\n",
        "\n",
        "Uma das formas de lidar com hápax é reduzir as palavras às suas raízes morfológicas. Isso pode ser feito utilzando um **stemmer** – um programa para reduzir vocábulos a suas raízes."
      ],
      "metadata": {
        "id": "tl8p9_HwUd2r"
      }
    },
    {
      "cell_type": "code",
      "source": [
        "# Calcular a quantidade hápax legômena\n",
        "\n",
        "hapax = [x for x in palavras if palavras.count(x) == 1]\n",
        "len(hapax)\n",
        "#resultado: 4358 palavras são hápax"
      ],
      "metadata": {
        "colab": {
          "base_uri": "https://localhost:8080/"
        },
        "id": "nHAuymA9Uz3x",
        "outputId": "e46fc5cb-a09b-46c3-f5d4-5933f92faefb"
      },
      "execution_count": 20,
      "outputs": [
        {
          "output_type": "execute_result",
          "data": {
            "text/plain": [
              "4358"
            ]
          },
          "metadata": {},
          "execution_count": 20
        }
      ]
    },
    {
      "cell_type": "code",
      "source": [
        "# Criando um Stemmer\n",
        "\n",
        "nltk.download('rslp')\n",
        "\n",
        "stemmer = nltk.stem.RSLPStemmer()\n",
        "raizes = [stemmer.stem(x) for x in set(palavras)]\n",
        "hapax = [x for x in raizes if raizes.count(x) == 1]\n",
        "\n",
        "# Conferindo a redução de hápax após o uso do stemmer\n",
        "\n",
        "len(hapax)\n",
        "\n",
        "# Houve uma redução de 1.148 palavras hápax ao se reduzir os vocábulos às suas raízes"
      ],
      "metadata": {
        "colab": {
          "base_uri": "https://localhost:8080/"
        },
        "id": "80syUe6QXETi",
        "outputId": "bc5100d4-61d5-4475-dbee-2142632b91c5"
      },
      "execution_count": 21,
      "outputs": [
        {
          "output_type": "stream",
          "name": "stderr",
          "text": [
            "[nltk_data] Downloading package rslp to /root/nltk_data...\n",
            "[nltk_data]   Unzipping stemmers/rslp.zip.\n"
          ]
        },
        {
          "output_type": "execute_result",
          "data": {
            "text/plain": [
              "3210"
            ]
          },
          "metadata": {},
          "execution_count": 21
        }
      ]
    },
    {
      "cell_type": "code",
      "source": [
        "# Refazer a medida de riqueza vocabular pela divisão do conjunto de raízes distintas (types) pela contagem absoluta de ocorrências de raízes (tokens)\n",
        "\n",
        "len(set(raizes))/len(raizes)"
      ],
      "metadata": {
        "colab": {
          "base_uri": "https://localhost:8080/"
        },
        "id": "XRZoC6mUYwFB",
        "outputId": "1332b4c2-5f50-421f-8c67-196d5a072066"
      },
      "execution_count": 22,
      "outputs": [
        {
          "output_type": "execute_result",
          "data": {
            "text/plain": [
              "0.624622030237581"
            ]
          },
          "metadata": {},
          "execution_count": 22
        }
      ]
    },
    {
      "cell_type": "markdown",
      "source": [
        "# Análise estatística de corpus\n",
        "\n",
        "Para fazer esta análise estatística de corpus, usamos o corpus Machado do módulo NLTK.\n",
        "\n",
        "Ele contém a obra integral do autor divida em função de uma categorização literária da produção (romance, crônica, poesia, tradução, etc.) e ordem cronológica ascendente."
      ],
      "metadata": {
        "id": "yMQ7qJ-YdPPX"
      }
    },
    {
      "cell_type": "code",
      "source": [
        "from nltk.corpus import machado\n",
        "nltk.download('machado')"
      ],
      "metadata": {
        "colab": {
          "base_uri": "https://localhost:8080/"
        },
        "id": "fMlpVfXodzIx",
        "outputId": "006cab1d-3b73-4d32-bb00-9a0ac770fbc6"
      },
      "execution_count": 23,
      "outputs": [
        {
          "output_type": "stream",
          "name": "stderr",
          "text": [
            "[nltk_data] Downloading package machado to /root/nltk_data...\n"
          ]
        },
        {
          "output_type": "execute_result",
          "data": {
            "text/plain": [
              "True"
            ]
          },
          "metadata": {},
          "execution_count": 23
        }
      ]
    },
    {
      "cell_type": "code",
      "source": [
        "# Verificar a lista de textos disponíveis no corpus Machado\n",
        "\n",
        "print(machado.readme())"
      ],
      "metadata": {
        "colab": {
          "base_uri": "https://localhost:8080/"
        },
        "id": "SvwSHy1Te3mu",
        "outputId": "33187816-1ad2-4458-d1be-58f27e4f7438"
      },
      "execution_count": 24,
      "outputs": [
        {
          "output_type": "stream",
          "name": "stdout",
          "text": [
            "Machado de Assis -- Obra Completa\n",
            "\n",
            "http://machado.mec.gov.br/\n",
            "\n",
            "Public Domain\n",
            "\n",
            "Contents:\n",
            "\n",
            "Romance\n",
            "\n",
            "romance/marm01.txt: Ressurreição (1872)\n",
            "romance/marm02.txt: A Mão e a Luva (1874)\n",
            "romance/marm03.txt: Helena (1876)\n",
            "romance/marm04.txt: Iaiá Garcia (1878)\n",
            "romance/marm05.txt: Memórias Póstumas de Brás Cubas (1881)\n",
            "romance/marm06.txt: Casa Velha (1885)\n",
            "romance/marm07.txt: Quincas Borba (1891)\n",
            "romance/marm08.txt: Dom Casmurro (1899)\n",
            "romance/marm09.txt: Esaú e Jacó (1904)\n",
            "romance/marm10.txt: Memorial de Aires (1908)\n",
            "\n",
            "Poesia\n",
            "\n",
            "poesia/maps01.txt: Crisálidas (1864)\n",
            "poesia/maps02.txt: Falenas (1870)\n",
            "poesia/maps03.txt: Americanas (1875)\n",
            "poesia/maps04.txt: Gazeta de Holanda (1886-88)\n",
            "poesia/maps05.txt: Ocidentais (1901)\n",
            "poesia/maps06.txt: O Almada (1908)\n",
            "poesia/maps07.txt: Dispersas (1854-1939)\n",
            "\n",
            "Contos\n",
            "\n",
            "contos/macn001.txt: Contos Fluminenses (1870); Miss Dollar; Luís Soares; A mulher de preto; O segredo de Augusta; Confissões de uma viúva moça; Linha reta e linha curva; Frei Sim\n",
            "contos/macn002.txt: Histórias da meia-noite (1873); A parasita azul; As bodas de Luís Duarte; Ernesto de Tal; Aurora sem dia; O relógio de ouro; Ponto de vista\n",
            "contos/macn003.txt: Papéis avulsos (1882); O alienista; Teoria do medalhão; A chinela turca; Na arca; D. Benedita; O segredo do bonzo; O anel de Polícrates; O empréstimo; A sereníssima república; O espelho; Uma visita de Alcibíades; Verba testamentária\n",
            "contos/macn004.txt: Histórias sem data (1884); A igreja do Diabo; O lapso; Último capítulo; Cantiga de esponsais; Singular ocorrência; Galeria póstuma; Capítulo dos chapéus; Conto alexandrino; Rimas de Sapucaia!; Uma senhora; Anedota pecuniária; Fulano; A segunda vida; Noite de almirante; Manuscrito de um sacristão; Ex cathedra; A senhora do Galvão; As academias de Sião\n",
            "contos/macn005.txt: Várias histórias (1896); A cartomante; Entre santos; Uns braços; Um homem célebre; A desejada das gentes; A causa secreta; Trio em lá menor; Adão e Eva; O enfermeiro; O diplomático; Mariana; Conto de escola; Um apólogo; D. Paula; Viver!; O cônego ou Metafísica do estilo\n",
            "contos/macn006.txt: Páginas recolhidas (1899); O caso da vara; O dicionário; Um erradio; Eterno!; Missa do galo; Idéias de canário; Lágrimas de Xerxes; Papéis velhos\n",
            "contos/macn007.txt: Relíquias de Casa Velha (1906); Pai contra mãe; Maria Cora; Marcha fúnebre; Um capitão de voluntários; Suje-se gordo!; Umas férias; Evolução; Pílades e Orestes; Anedota do cabriolet\n",
            "\n",
            "Traducao\n",
            "\n",
            "traducao/matr01.txt: Suplício de uma mulher (1865)\n",
            "traducao/matr02.txt: Os trabalhadores do mar (1866)\n",
            "traducao/matr03.txt: Oliver Twist (1870)\n",
            "\n",
            "Teatro\n",
            "\n",
            "teatro/matt01.txt: As forcas caudinas (1956)\n",
            "teatro/matt02.txt: Hoje avental, amanhã luva (1860)\n",
            "teatro/matt03.txt: Desencantos (1861)\n",
            "teatro/matt04.txt: O caminho da porta / O protocolo (1863)\n",
            "teatro/matt05.txt: Quase ministro (1864)\n",
            "teatro/matt06.txt: Os deuses de casaca (1866)\n",
            "teatro/matt07.txt: O bote de rapé (1878)\n",
            "teatro/matt08.txt: Tu, só tu, puro amor (1880)\n",
            "teatro/matt09.txt: Não consultes médico (1899)\n",
            "teatro/matt10.txt: Lição de botânica (1906)\n",
            "\n",
            "Cronica\n",
            "\n",
            "cronica/macr01.txt: Comentários da semana (1861-1863)\n",
            "cronica/macr02.txt: Crônicas do Dr. Semana (1861-1864)\n",
            "cronica/macr03.txt: Crônicas - O futuro (1862-1863)\n",
            "cronica/macr04.txt: Ao acaso (1864-1865)\n",
            "cronica/macr05.txt: Cartas fluminenses (1867)\n",
            "cronica/macr06.txt: Badaladas (1871-1873)\n",
            "cronica/macr07.txt: História de quinze dias (1876-1877)\n",
            "cronica/macr08.txt: História dos trinta dias (1878)\n",
            "cronica/macr09.txt: Notas semanais (1878)\n",
            "cronica/macr10.txt: Balas de estalo (1883-1886)\n",
            "cronica/macr11.txt: Bons dias! (1888-1889)\n",
            "cronica/macr12.txt: A semana (1892-1800)\n",
            "cronica/macr13.txt: O jornal e o livro (1859)\n",
            "cronica/macr14.txt: A reforma pelo jornal (1859)\n",
            "cronica/macr15.txt: Aquarelas (1859)\n",
            "cronica/macr16.txt: O Visconde de Castilho (1875)\n",
            "cronica/macr17.txt: Cherchez la femme (1881)\n",
            "cronica/macr18.txt: José de Alencar (1883)\n",
            "cronica/macr19.txt: Joaquim Serra (1888)\n",
            "cronica/macr20.txt: O futuro dos argentinos (1888)\n",
            "cronica/macr21.txt: Entre 1892 e 1894 (1892-1894)\n",
            "cronica/macr22.txt: Henrique Chaves (1893)\n",
            "cronica/macr23.txt: Henrique Lombaerts (1897)\n",
            "cronica/macr24.txt: O velho Senado (1898)\n",
            "critica/mact01.txt: O Passado, o presente e o futuro da literatura (1858)\n",
            "critica/mact02.txt: Idéias sobre o teatro (1859)\n",
            "critica/mact03.txt: Revista dos teatros (1859)\n",
            "critica/mact04.txt: Revista Dramática (1860)\n",
            "critica/mact05.txt: A Crítica teatral. José de Alencar: Mãe (1860)\n",
            "critica/mact06.txt: Crítica variada - Diário do RJ (1862)\n",
            "critica/mact07.txt: Flores e Frutos, de Bruno Seabra (1862)\n",
            "critica/mact08.txt: Pareceres - Conservatório Dramático (1862-1864)\n",
            "critica/mact09.txt: Homem de Mello e B. Pinheiro  A Constituinte perante a História e Sombras e Luz (1863)\n",
            "critica/mact10.txt: Peregrinação pela província de S. Paulo , por A. E. Zaluar (1863)\n",
            "critica/mact11.txt: Revelações , de A. E. Zaluar (1863)\n",
            "critica/mact12.txt: Dois folhetins. Suplício de uma mulher (1865)\n",
            "critica/mact13.txt: O Ideal do crítico (1865)\n",
            "critica/mact14.txt: Álvares de Azevedo: Lira dos vinte anos (1866)\n",
            "critica/mact15.txt: Crítica teatral (1866)\n",
            "critica/mact16.txt: Fagundes Varela  Cantos e fantasias (1866)\n",
            "critica/mact17.txt: J .M. de Macedo: O culto do dever (1866)\n",
            "critica/mact18.txt: José de Alencar: Iracema (1866)\n",
            "critica/mact19.txt: Junqueira Freire: Inspirações do claustro (1866)\n",
            "critica/mact20.txt: Porto Alegre: Colombo (1866)\n",
            "critica/mact21.txt: Propósito (1866)\n",
            "critica/mact22.txt: Castro Alves (1868)\n",
            "critica/mact23.txt: Lúcio de Mendonça: Névoas matutinas (1872)\n",
            "critica/mact24.txt: Un cuento endemoniado e La mujer misteriosa , de Guilherme Malta (1872)\n",
            "critica/mact25.txt: Notícia da atual literatura brasileira: Instinto de nacionalidade (1873)\n",
            "critica/mact26.txt: Fagundes Varela (1875)\n",
            "critica/mact27.txt: Eça de Queirós: O primo Basílio (1878)\n",
            "critica/mact28.txt: Francisco de Castro: Harmonias errantes (1878)\n",
            "critica/mact29.txt: A Nova geração (1879)\n",
            "critica/mact30.txt: Carlos Jansen: Contos seletos das mil e uma noites (1882)\n",
            "critica/mact31.txt: Raimundo Correia: Sinfonias (1882)\n",
            "critica/mact32.txt: Alberto de Oliveira: Meridionais (1884)\n",
            "critica/mact33.txt: Enéias Galvão: Miragens (1885)\n",
            "critica/mact34.txt: L. L. Fernandes Pinheiro Júnior: Tipos e quadros (1886)\n",
            "critica/mact35.txt: José de Alencar: O Guarani (1887)\n",
            "critica/mact36.txt: Henriqueta Renan (1896)\n",
            "critica/mact37.txt: Discursos na Academia Brasileira de Letras (1897)\n",
            "critica/mact38.txt: Magalhães de Azeredo: Procelárias (1898)\n",
            "critica/mact39.txt: Cenas da vida amazônica , de José Veríssimo (1899)\n",
            "critica/mact40.txt: Garrett (1899)\n",
            "critica/mact41.txt: Eça de Queirós (1900)\n",
            "critica/mact42.txt: Eduardo Prado (1901)\n",
            "critica/mact43.txt: Magalhães de Azeredo e Mário de Alencar: Horas sagradas e Versos (1902)\n",
            "critica/mact44.txt: Oliveira Lima: Secretário d'el-rei (1904)\n",
            "critica/mact45.txt: Joaquim Nabuco: Pensées détachées et souvenirs (1906)\n",
            "\n",
            "Miscelanea\n",
            "\n",
            "miscelanea/mams01.txt: Os imortais (1859)\n",
            "miscelanea/mams02.txt: Queda que as mulheres têm para os tolos (1861)\n",
            "miscelanea/mams03.txt: Carta ao Sr. Bispo do RJ (1862)\n",
            "miscelanea/mams04.txt: Carta à redação da Imprensa Acadêmica (1864)\n",
            "miscelanea/mams05.txt: Pedro Luís (1884)\n",
            "miscelanea/mams06.txt: A morte de Francisco Otaviano (1889)\n",
            "miscelanea/mams07.txt: Secretaria de Agricultura (1890)\n",
            "miscelanea/mams08.txt: A Paixão de Jesus (1904)\n",
            "miscelanea/mams09.txt: Gonçalves Dias (1906)\n",
            "miscelanea/mams10.txt: A Estátua de José de Alencar (1906)\n",
            "\n"
          ]
        }
      ]
    },
    {
      "cell_type": "code",
      "source": [
        "#Importar a biblioteca Statistics para realizar as análises do corpus\n",
        "import statistics"
      ],
      "metadata": {
        "id": "syh0rxpifXgW"
      },
      "execution_count": 25,
      "outputs": []
    },
    {
      "cell_type": "markdown",
      "source": [
        "# Etiquetagem Morfossintática\n",
        "\n",
        "Nessa análise do corpus Machado, iremos inicialmente calcular a frequência de uma determinada classe de palavras (no caso os advérbios) no total de palavras do texto.\n",
        "\n",
        "Para fazer isso, teremos antes que realizar uma etiquetagem morfossintática (pos-tagging).\n",
        "\n",
        "Nesse processo, são formadas tuplas com a palavra e sua etique correspondete. Por exemplo: ('são', 'VERB').\n",
        "\n",
        "Para realizar essa ação, iremos usar a biblioteca spaCy."
      ],
      "metadata": {
        "id": "1Fr-Kv2kf-au"
      }
    },
    {
      "cell_type": "code",
      "source": [
        "!pip install spaCy -q"
      ],
      "metadata": {
        "id": "TgJLZpdtgxb-"
      },
      "execution_count": 26,
      "outputs": []
    },
    {
      "cell_type": "code",
      "source": [
        "# Instalar o spaCy\n",
        "!pip install spacy\n",
        "\n",
        "# Baixar o modelo de linguagem 'pt_core_news_sm'\n",
        "!python -m spacy download pt_core_news_sm\n",
        "\n",
        "# Importar e carregar o modelo\n",
        "import spacy\n",
        "nlp = spacy.load('pt_core_news_sm')\n",
        "\n",
        "# Exemplo de uso do spaCy\n",
        "texto = \"Será que vai funcionar essa etiquetagem?\"\n",
        "doc = nlp(texto)\n",
        "\n",
        "# Imprimir os tokens e seus tipos\n",
        "etiq = [(x.text, x.pos_) for x in doc]\n",
        "print(etiq)"
      ],
      "metadata": {
        "colab": {
          "base_uri": "https://localhost:8080/"
        },
        "id": "dTfH4yCviLnR",
        "outputId": "3df1a70f-b643-47c6-c980-686886956e88"
      },
      "execution_count": 27,
      "outputs": [
        {
          "output_type": "stream",
          "name": "stdout",
          "text": [
            "Requirement already satisfied: spacy in /usr/local/lib/python3.10/dist-packages (3.7.5)\n",
            "Requirement already satisfied: spacy-legacy<3.1.0,>=3.0.11 in /usr/local/lib/python3.10/dist-packages (from spacy) (3.0.12)\n",
            "Requirement already satisfied: spacy-loggers<2.0.0,>=1.0.0 in /usr/local/lib/python3.10/dist-packages (from spacy) (1.0.5)\n",
            "Requirement already satisfied: murmurhash<1.1.0,>=0.28.0 in /usr/local/lib/python3.10/dist-packages (from spacy) (1.0.10)\n",
            "Requirement already satisfied: cymem<2.1.0,>=2.0.2 in /usr/local/lib/python3.10/dist-packages (from spacy) (2.0.8)\n",
            "Requirement already satisfied: preshed<3.1.0,>=3.0.2 in /usr/local/lib/python3.10/dist-packages (from spacy) (3.0.9)\n",
            "Requirement already satisfied: thinc<8.3.0,>=8.2.2 in /usr/local/lib/python3.10/dist-packages (from spacy) (8.2.4)\n",
            "Requirement already satisfied: wasabi<1.2.0,>=0.9.1 in /usr/local/lib/python3.10/dist-packages (from spacy) (1.1.3)\n",
            "Requirement already satisfied: srsly<3.0.0,>=2.4.3 in /usr/local/lib/python3.10/dist-packages (from spacy) (2.4.8)\n",
            "Requirement already satisfied: catalogue<2.1.0,>=2.0.6 in /usr/local/lib/python3.10/dist-packages (from spacy) (2.0.10)\n",
            "Requirement already satisfied: weasel<0.5.0,>=0.1.0 in /usr/local/lib/python3.10/dist-packages (from spacy) (0.4.1)\n",
            "Requirement already satisfied: typer<1.0.0,>=0.3.0 in /usr/local/lib/python3.10/dist-packages (from spacy) (0.12.3)\n",
            "Requirement already satisfied: tqdm<5.0.0,>=4.38.0 in /usr/local/lib/python3.10/dist-packages (from spacy) (4.66.4)\n",
            "Requirement already satisfied: requests<3.0.0,>=2.13.0 in /usr/local/lib/python3.10/dist-packages (from spacy) (2.31.0)\n",
            "Requirement already satisfied: pydantic!=1.8,!=1.8.1,<3.0.0,>=1.7.4 in /usr/local/lib/python3.10/dist-packages (from spacy) (2.7.3)\n",
            "Requirement already satisfied: jinja2 in /usr/local/lib/python3.10/dist-packages (from spacy) (3.1.4)\n",
            "Requirement already satisfied: setuptools in /usr/local/lib/python3.10/dist-packages (from spacy) (67.7.2)\n",
            "Requirement already satisfied: packaging>=20.0 in /usr/local/lib/python3.10/dist-packages (from spacy) (24.1)\n",
            "Requirement already satisfied: langcodes<4.0.0,>=3.2.0 in /usr/local/lib/python3.10/dist-packages (from spacy) (3.4.0)\n",
            "Requirement already satisfied: numpy>=1.19.0 in /usr/local/lib/python3.10/dist-packages (from spacy) (1.25.2)\n",
            "Requirement already satisfied: language-data>=1.2 in /usr/local/lib/python3.10/dist-packages (from langcodes<4.0.0,>=3.2.0->spacy) (1.2.0)\n",
            "Requirement already satisfied: annotated-types>=0.4.0 in /usr/local/lib/python3.10/dist-packages (from pydantic!=1.8,!=1.8.1,<3.0.0,>=1.7.4->spacy) (0.7.0)\n",
            "Requirement already satisfied: pydantic-core==2.18.4 in /usr/local/lib/python3.10/dist-packages (from pydantic!=1.8,!=1.8.1,<3.0.0,>=1.7.4->spacy) (2.18.4)\n",
            "Requirement already satisfied: typing-extensions>=4.6.1 in /usr/local/lib/python3.10/dist-packages (from pydantic!=1.8,!=1.8.1,<3.0.0,>=1.7.4->spacy) (4.12.2)\n",
            "Requirement already satisfied: charset-normalizer<4,>=2 in /usr/local/lib/python3.10/dist-packages (from requests<3.0.0,>=2.13.0->spacy) (3.3.2)\n",
            "Requirement already satisfied: idna<4,>=2.5 in /usr/local/lib/python3.10/dist-packages (from requests<3.0.0,>=2.13.0->spacy) (3.7)\n",
            "Requirement already satisfied: urllib3<3,>=1.21.1 in /usr/local/lib/python3.10/dist-packages (from requests<3.0.0,>=2.13.0->spacy) (2.0.7)\n",
            "Requirement already satisfied: certifi>=2017.4.17 in /usr/local/lib/python3.10/dist-packages (from requests<3.0.0,>=2.13.0->spacy) (2024.6.2)\n",
            "Requirement already satisfied: blis<0.8.0,>=0.7.8 in /usr/local/lib/python3.10/dist-packages (from thinc<8.3.0,>=8.2.2->spacy) (0.7.11)\n",
            "Requirement already satisfied: confection<1.0.0,>=0.0.1 in /usr/local/lib/python3.10/dist-packages (from thinc<8.3.0,>=8.2.2->spacy) (0.1.5)\n",
            "Requirement already satisfied: click>=8.0.0 in /usr/local/lib/python3.10/dist-packages (from typer<1.0.0,>=0.3.0->spacy) (8.1.7)\n",
            "Requirement already satisfied: shellingham>=1.3.0 in /usr/local/lib/python3.10/dist-packages (from typer<1.0.0,>=0.3.0->spacy) (1.5.4)\n",
            "Requirement already satisfied: rich>=10.11.0 in /usr/local/lib/python3.10/dist-packages (from typer<1.0.0,>=0.3.0->spacy) (13.7.1)\n",
            "Requirement already satisfied: cloudpathlib<1.0.0,>=0.7.0 in /usr/local/lib/python3.10/dist-packages (from weasel<0.5.0,>=0.1.0->spacy) (0.18.1)\n",
            "Requirement already satisfied: smart-open<8.0.0,>=5.2.1 in /usr/local/lib/python3.10/dist-packages (from weasel<0.5.0,>=0.1.0->spacy) (7.0.4)\n",
            "Requirement already satisfied: MarkupSafe>=2.0 in /usr/local/lib/python3.10/dist-packages (from jinja2->spacy) (2.1.5)\n",
            "Requirement already satisfied: marisa-trie>=0.7.7 in /usr/local/lib/python3.10/dist-packages (from language-data>=1.2->langcodes<4.0.0,>=3.2.0->spacy) (1.2.0)\n",
            "Requirement already satisfied: markdown-it-py>=2.2.0 in /usr/local/lib/python3.10/dist-packages (from rich>=10.11.0->typer<1.0.0,>=0.3.0->spacy) (3.0.0)\n",
            "Requirement already satisfied: pygments<3.0.0,>=2.13.0 in /usr/local/lib/python3.10/dist-packages (from rich>=10.11.0->typer<1.0.0,>=0.3.0->spacy) (2.16.1)\n",
            "Requirement already satisfied: wrapt in /usr/local/lib/python3.10/dist-packages (from smart-open<8.0.0,>=5.2.1->weasel<0.5.0,>=0.1.0->spacy) (1.14.1)\n",
            "Requirement already satisfied: mdurl~=0.1 in /usr/local/lib/python3.10/dist-packages (from markdown-it-py>=2.2.0->rich>=10.11.0->typer<1.0.0,>=0.3.0->spacy) (0.1.2)\n",
            "Collecting pt-core-news-sm==3.7.0\n",
            "  Downloading https://github.com/explosion/spacy-models/releases/download/pt_core_news_sm-3.7.0/pt_core_news_sm-3.7.0-py3-none-any.whl (13.0 MB)\n",
            "\u001b[2K     \u001b[90m━━━━━━━━━━━━━━━━━━━━━━━━━━━━━━━━━━━━━━━━\u001b[0m \u001b[32m13.0/13.0 MB\u001b[0m \u001b[31m26.6 MB/s\u001b[0m eta \u001b[36m0:00:00\u001b[0m\n",
            "\u001b[?25hRequirement already satisfied: spacy<3.8.0,>=3.7.0 in /usr/local/lib/python3.10/dist-packages (from pt-core-news-sm==3.7.0) (3.7.5)\n",
            "Requirement already satisfied: spacy-legacy<3.1.0,>=3.0.11 in /usr/local/lib/python3.10/dist-packages (from spacy<3.8.0,>=3.7.0->pt-core-news-sm==3.7.0) (3.0.12)\n",
            "Requirement already satisfied: spacy-loggers<2.0.0,>=1.0.0 in /usr/local/lib/python3.10/dist-packages (from spacy<3.8.0,>=3.7.0->pt-core-news-sm==3.7.0) (1.0.5)\n",
            "Requirement already satisfied: murmurhash<1.1.0,>=0.28.0 in /usr/local/lib/python3.10/dist-packages (from spacy<3.8.0,>=3.7.0->pt-core-news-sm==3.7.0) (1.0.10)\n",
            "Requirement already satisfied: cymem<2.1.0,>=2.0.2 in /usr/local/lib/python3.10/dist-packages (from spacy<3.8.0,>=3.7.0->pt-core-news-sm==3.7.0) (2.0.8)\n",
            "Requirement already satisfied: preshed<3.1.0,>=3.0.2 in /usr/local/lib/python3.10/dist-packages (from spacy<3.8.0,>=3.7.0->pt-core-news-sm==3.7.0) (3.0.9)\n",
            "Requirement already satisfied: thinc<8.3.0,>=8.2.2 in /usr/local/lib/python3.10/dist-packages (from spacy<3.8.0,>=3.7.0->pt-core-news-sm==3.7.0) (8.2.4)\n",
            "Requirement already satisfied: wasabi<1.2.0,>=0.9.1 in /usr/local/lib/python3.10/dist-packages (from spacy<3.8.0,>=3.7.0->pt-core-news-sm==3.7.0) (1.1.3)\n",
            "Requirement already satisfied: srsly<3.0.0,>=2.4.3 in /usr/local/lib/python3.10/dist-packages (from spacy<3.8.0,>=3.7.0->pt-core-news-sm==3.7.0) (2.4.8)\n",
            "Requirement already satisfied: catalogue<2.1.0,>=2.0.6 in /usr/local/lib/python3.10/dist-packages (from spacy<3.8.0,>=3.7.0->pt-core-news-sm==3.7.0) (2.0.10)\n",
            "Requirement already satisfied: weasel<0.5.0,>=0.1.0 in /usr/local/lib/python3.10/dist-packages (from spacy<3.8.0,>=3.7.0->pt-core-news-sm==3.7.0) (0.4.1)\n",
            "Requirement already satisfied: typer<1.0.0,>=0.3.0 in /usr/local/lib/python3.10/dist-packages (from spacy<3.8.0,>=3.7.0->pt-core-news-sm==3.7.0) (0.12.3)\n",
            "Requirement already satisfied: tqdm<5.0.0,>=4.38.0 in /usr/local/lib/python3.10/dist-packages (from spacy<3.8.0,>=3.7.0->pt-core-news-sm==3.7.0) (4.66.4)\n",
            "Requirement already satisfied: requests<3.0.0,>=2.13.0 in /usr/local/lib/python3.10/dist-packages (from spacy<3.8.0,>=3.7.0->pt-core-news-sm==3.7.0) (2.31.0)\n",
            "Requirement already satisfied: pydantic!=1.8,!=1.8.1,<3.0.0,>=1.7.4 in /usr/local/lib/python3.10/dist-packages (from spacy<3.8.0,>=3.7.0->pt-core-news-sm==3.7.0) (2.7.3)\n",
            "Requirement already satisfied: jinja2 in /usr/local/lib/python3.10/dist-packages (from spacy<3.8.0,>=3.7.0->pt-core-news-sm==3.7.0) (3.1.4)\n",
            "Requirement already satisfied: setuptools in /usr/local/lib/python3.10/dist-packages (from spacy<3.8.0,>=3.7.0->pt-core-news-sm==3.7.0) (67.7.2)\n",
            "Requirement already satisfied: packaging>=20.0 in /usr/local/lib/python3.10/dist-packages (from spacy<3.8.0,>=3.7.0->pt-core-news-sm==3.7.0) (24.1)\n",
            "Requirement already satisfied: langcodes<4.0.0,>=3.2.0 in /usr/local/lib/python3.10/dist-packages (from spacy<3.8.0,>=3.7.0->pt-core-news-sm==3.7.0) (3.4.0)\n",
            "Requirement already satisfied: numpy>=1.19.0 in /usr/local/lib/python3.10/dist-packages (from spacy<3.8.0,>=3.7.0->pt-core-news-sm==3.7.0) (1.25.2)\n",
            "Requirement already satisfied: language-data>=1.2 in /usr/local/lib/python3.10/dist-packages (from langcodes<4.0.0,>=3.2.0->spacy<3.8.0,>=3.7.0->pt-core-news-sm==3.7.0) (1.2.0)\n",
            "Requirement already satisfied: annotated-types>=0.4.0 in /usr/local/lib/python3.10/dist-packages (from pydantic!=1.8,!=1.8.1,<3.0.0,>=1.7.4->spacy<3.8.0,>=3.7.0->pt-core-news-sm==3.7.0) (0.7.0)\n",
            "Requirement already satisfied: pydantic-core==2.18.4 in /usr/local/lib/python3.10/dist-packages (from pydantic!=1.8,!=1.8.1,<3.0.0,>=1.7.4->spacy<3.8.0,>=3.7.0->pt-core-news-sm==3.7.0) (2.18.4)\n",
            "Requirement already satisfied: typing-extensions>=4.6.1 in /usr/local/lib/python3.10/dist-packages (from pydantic!=1.8,!=1.8.1,<3.0.0,>=1.7.4->spacy<3.8.0,>=3.7.0->pt-core-news-sm==3.7.0) (4.12.2)\n",
            "Requirement already satisfied: charset-normalizer<4,>=2 in /usr/local/lib/python3.10/dist-packages (from requests<3.0.0,>=2.13.0->spacy<3.8.0,>=3.7.0->pt-core-news-sm==3.7.0) (3.3.2)\n",
            "Requirement already satisfied: idna<4,>=2.5 in /usr/local/lib/python3.10/dist-packages (from requests<3.0.0,>=2.13.0->spacy<3.8.0,>=3.7.0->pt-core-news-sm==3.7.0) (3.7)\n",
            "Requirement already satisfied: urllib3<3,>=1.21.1 in /usr/local/lib/python3.10/dist-packages (from requests<3.0.0,>=2.13.0->spacy<3.8.0,>=3.7.0->pt-core-news-sm==3.7.0) (2.0.7)\n",
            "Requirement already satisfied: certifi>=2017.4.17 in /usr/local/lib/python3.10/dist-packages (from requests<3.0.0,>=2.13.0->spacy<3.8.0,>=3.7.0->pt-core-news-sm==3.7.0) (2024.6.2)\n",
            "Requirement already satisfied: blis<0.8.0,>=0.7.8 in /usr/local/lib/python3.10/dist-packages (from thinc<8.3.0,>=8.2.2->spacy<3.8.0,>=3.7.0->pt-core-news-sm==3.7.0) (0.7.11)\n",
            "Requirement already satisfied: confection<1.0.0,>=0.0.1 in /usr/local/lib/python3.10/dist-packages (from thinc<8.3.0,>=8.2.2->spacy<3.8.0,>=3.7.0->pt-core-news-sm==3.7.0) (0.1.5)\n",
            "Requirement already satisfied: click>=8.0.0 in /usr/local/lib/python3.10/dist-packages (from typer<1.0.0,>=0.3.0->spacy<3.8.0,>=3.7.0->pt-core-news-sm==3.7.0) (8.1.7)\n",
            "Requirement already satisfied: shellingham>=1.3.0 in /usr/local/lib/python3.10/dist-packages (from typer<1.0.0,>=0.3.0->spacy<3.8.0,>=3.7.0->pt-core-news-sm==3.7.0) (1.5.4)\n",
            "Requirement already satisfied: rich>=10.11.0 in /usr/local/lib/python3.10/dist-packages (from typer<1.0.0,>=0.3.0->spacy<3.8.0,>=3.7.0->pt-core-news-sm==3.7.0) (13.7.1)\n",
            "Requirement already satisfied: cloudpathlib<1.0.0,>=0.7.0 in /usr/local/lib/python3.10/dist-packages (from weasel<0.5.0,>=0.1.0->spacy<3.8.0,>=3.7.0->pt-core-news-sm==3.7.0) (0.18.1)\n",
            "Requirement already satisfied: smart-open<8.0.0,>=5.2.1 in /usr/local/lib/python3.10/dist-packages (from weasel<0.5.0,>=0.1.0->spacy<3.8.0,>=3.7.0->pt-core-news-sm==3.7.0) (7.0.4)\n",
            "Requirement already satisfied: MarkupSafe>=2.0 in /usr/local/lib/python3.10/dist-packages (from jinja2->spacy<3.8.0,>=3.7.0->pt-core-news-sm==3.7.0) (2.1.5)\n",
            "Requirement already satisfied: marisa-trie>=0.7.7 in /usr/local/lib/python3.10/dist-packages (from language-data>=1.2->langcodes<4.0.0,>=3.2.0->spacy<3.8.0,>=3.7.0->pt-core-news-sm==3.7.0) (1.2.0)\n",
            "Requirement already satisfied: markdown-it-py>=2.2.0 in /usr/local/lib/python3.10/dist-packages (from rich>=10.11.0->typer<1.0.0,>=0.3.0->spacy<3.8.0,>=3.7.0->pt-core-news-sm==3.7.0) (3.0.0)\n",
            "Requirement already satisfied: pygments<3.0.0,>=2.13.0 in /usr/local/lib/python3.10/dist-packages (from rich>=10.11.0->typer<1.0.0,>=0.3.0->spacy<3.8.0,>=3.7.0->pt-core-news-sm==3.7.0) (2.16.1)\n",
            "Requirement already satisfied: wrapt in /usr/local/lib/python3.10/dist-packages (from smart-open<8.0.0,>=5.2.1->weasel<0.5.0,>=0.1.0->spacy<3.8.0,>=3.7.0->pt-core-news-sm==3.7.0) (1.14.1)\n",
            "Requirement already satisfied: mdurl~=0.1 in /usr/local/lib/python3.10/dist-packages (from markdown-it-py>=2.2.0->rich>=10.11.0->typer<1.0.0,>=0.3.0->spacy<3.8.0,>=3.7.0->pt-core-news-sm==3.7.0) (0.1.2)\n",
            "Installing collected packages: pt-core-news-sm\n",
            "Successfully installed pt-core-news-sm-3.7.0\n",
            "\u001b[38;5;2m✔ Download and installation successful\u001b[0m\n",
            "You can now load the package via spacy.load('pt_core_news_sm')\n",
            "\u001b[38;5;3m⚠ Restart to reload dependencies\u001b[0m\n",
            "If you are in a Jupyter or Colab notebook, you may need to restart Python in\n",
            "order to load all the package's dependencies. You can do this by selecting the\n",
            "'Restart kernel' or 'Restart runtime' option.\n",
            "[('Será', 'VERB'), ('que', 'SCONJ'), ('vai', 'AUX'), ('funcionar', 'VERB'), ('essa', 'DET'), ('etiquetagem', 'NOUN'), ('?', 'PUNCT')]\n"
          ]
        }
      ]
    },
    {
      "cell_type": "code",
      "source": [
        "# Consultar etiquetagem de uma palavra específica por meio do índice\n",
        "print(doc[0])\n",
        "doc[0].pos_\n",
        "\n",
        "#OBS: o nome do pos (part of speech) aparecerá sempre em inglês mesmo com as palavras da string em português\n"
      ],
      "metadata": {
        "colab": {
          "base_uri": "https://localhost:8080/",
          "height": 53
        },
        "id": "leqZ3NQljTgB",
        "outputId": "7bff248e-eef8-4613-acb2-ba80d485228a"
      },
      "execution_count": 28,
      "outputs": [
        {
          "output_type": "stream",
          "name": "stdout",
          "text": [
            "Será\n"
          ]
        },
        {
          "output_type": "execute_result",
          "data": {
            "text/plain": [
              "'VERB'"
            ],
            "application/vnd.google.colaboratory.intrinsic+json": {
              "type": "string"
            }
          },
          "metadata": {},
          "execution_count": 28
        }
      ]
    },
    {
      "cell_type": "markdown",
      "source": [
        "**Adverbiação de Machado de Assis**"
      ],
      "metadata": {
        "id": "XHta5PP2kYLk"
      }
    },
    {
      "cell_type": "code",
      "source": [
        "# Gerar gráfico de barras simples do tipo de texto de Machado de Assis\n",
        "\n",
        "import matplotlib.pyplot as plt\n",
        "import statistics as stat\n",
        "import spacy\n",
        "from nltk.corpus import machado\n",
        "\n",
        "# Carregar o modelo do spaCy\n",
        "nlp = spacy.load('pt_core_news_sm')\n",
        "\n",
        "# Ler e ter acesso ao conteúdo de uma obra no corpus Machado\n",
        "obras = ['romance/marm0' + str(i) + '.txt' for i in range(1, 6)]\n",
        "\n",
        "# Contar advérbios\n",
        "cont_adv = []\n",
        "for obra in obras:\n",
        "    print(obra)\n",
        "    s = machado.raw(obra)\n",
        "    doc = nlp(s)\n",
        "    etiq = [(pal.orth_, pal.pos_) for pal in doc]\n",
        "    adv = [(ort, pos) for (ort, pos) in etiq if pos == 'ADV']\n",
        "    cont_adv.append(len(adv) / len(etiq))\n",
        "\n",
        "# Verificar se há elementos suficientes antes de calcular a média e desvio padrão\n",
        "rom_m, rom_dp, cro_m, cro_dp = None, None, None, None\n",
        "\n",
        "if len(cont_adv) >= 4:\n",
        "    rom_m = stat.mean(cont_adv[:4])\n",
        "    if len(cont_adv[:4]) > 1:\n",
        "        rom_dp = stat.stdev(cont_adv[:4])\n",
        "    else:\n",
        "        rom_dp = 0\n",
        "\n",
        "if len(cont_adv) >= 5:\n",
        "    cro_m = stat.mean(cont_adv[4:])\n",
        "    if len(cont_adv[4:]) > 1:\n",
        "        cro_dp = stat.stdev(cont_adv[4:])\n",
        "    else:\n",
        "        cro_dp = 0\n",
        "\n",
        "# Imprimir os valores calculados\n",
        "print(f\"ROM Mean: {rom_m}, ROM Std Dev: {rom_dp}\")\n",
        "print(f\"CRO Mean: {cro_m}, CRO Std Dev: {cro_dp}\")\n",
        "\n",
        "# Preparar dados para plotagem, assegurando que ambas as barras tenham marcas de desvio padrão\n",
        "x = ['ROM', 'CRO']\n",
        "y = []\n",
        "dp = []\n",
        "tipo_obra = []\n",
        "\n",
        "if rom_m is not None:\n",
        "    y.append(rom_m)\n",
        "    dp.append(rom_dp)\n",
        "    tipo_obra.append('ROM')\n",
        "\n",
        "if cro_m is not None:\n",
        "    y.append(cro_m)\n",
        "    dp.append(cro_dp)\n",
        "    tipo_obra.append('CRO')\n",
        "\n",
        "# Verificar se dp tem pelo menos 2 valores e, se não, adicionar 0 para cro_dp\n",
        "if len(dp) == 1:\n",
        "    dp.append(0)\n",
        "\n",
        "# Plotar o gráfico\n",
        "plt.bar(tipo_obra, y, yerr=dp, capsize=5)\n",
        "plt.ylabel('Percentual médio de advérbios (%)')\n",
        "plt.title('Percentual médio de advérbios em obras de Machado')\n",
        "plt.show()\n"
      ],
      "metadata": {
        "colab": {
          "base_uri": "https://localhost:8080/",
          "height": 574
        },
        "id": "0DlzHSWar1YP",
        "outputId": "d9ebb1d2-fde4-4278-c725-e7a078087a0d"
      },
      "execution_count": 29,
      "outputs": [
        {
          "output_type": "stream",
          "name": "stdout",
          "text": [
            "romance/marm01.txt\n",
            "romance/marm02.txt\n",
            "romance/marm03.txt\n",
            "romance/marm04.txt\n",
            "romance/marm05.txt\n",
            "ROM Mean: 0.059228932420173935, ROM Std Dev: 0.0034634010945340512\n",
            "CRO Mean: 0.05729973428035312, CRO Std Dev: 0\n"
          ]
        },
        {
          "output_type": "display_data",
          "data": {
            "text/plain": [
              "<Figure size 640x480 with 1 Axes>"
            ],
            "image/png": "[encoded data removed]"
          },
          "metadata": {}
        }
      ]
    },
    {
      "cell_type": "markdown",
      "source": [
        "No gráfico, as barras representam o percentual médio de advérbios nas obras de Machado. As marcas de desvio padrão (representadas pelas linhas verticais sobre as barras) indicam a variabilidade ou dispersão dos dados em torno da média.\n",
        "\n",
        "Vamos interpretar os resultados:\n",
        "\n",
        "ROM (Romances):\n",
        "\n",
        "* Percentual Médio de Advérbios: Aproximadamente 0.059 (ou 5.9%).\n",
        "* Desvio Padrão: Aproximadamente 0.0034 (ou 0.34%).\n",
        "* Interpretação: A média de advérbios nos romances é de 5.9%, com uma pequena variação em torno dessa média, conforme indicado pelo desvio padrão pequeno.\n",
        "\n",
        "CRO (Crônicas):\n",
        "\n",
        "* Percentual Médio de Advérbios: Aproximadamente 0.057 (ou 5.7%).\n",
        "* Desvio Padrão: 0.\n",
        "* Interpretação: A média de advérbios nas crônicas é de 5.7%. O desvio padrão é 0, indicando que não há variação nos dados, ou seja, todas as crônicas analisadas têm exatamente o mesmo percentual de advérbios. Isso pode ser uma indicação de que a amostra de crônicas é muito pequena ou que as crônicas têm uma distribuição muito uniforme de advérbios.\n",
        "\n"
      ],
      "metadata": {
        "id": "_927mHnzvWdu"
      }
    },
    {
      "cell_type": "code",
      "source": [
        "# Eliminar categorias não desejadas para análise\n",
        "\n",
        "lixo = ['PUNCT', 'SPACE', 'X', 'SYM', 'NUM']\n",
        "pos2 = [pos for(pal, pos) in etiq if pos not in lixo]\n",
        "\n",
        "# OBS: A lista completa de etiquetas atribuídias pelo spaCy encontra-se em https://spacy.io/usage/linguistic-features"
      ],
      "metadata": {
        "id": "aPHaIAjUu2tW"
      },
      "execution_count": 30,
      "outputs": []
    },
    {
      "cell_type": "code",
      "source": [
        "# Criar um dicionário de ocorrências para cada parte do discurso restante\n",
        "\n",
        "cont = defaultdict(int)\n",
        "for p in pos2:\n",
        "  cont[p] +=1\n",
        "\n",
        "nomes = cont.keys()\n",
        "ocorrencias = cont.values()\n",
        "\n",
        "# Gráfico de pizza com as ocorrências da parte do discurso na Crônica 5 do corpus do Machado de Assis\n",
        "\n",
        "plt.pie(ocorrencias, labels = nomes, autopct= '%1.1f%%')\n",
        "plt.axis('equal')\n",
        "plt.show()"
      ],
      "metadata": {
        "colab": {
          "base_uri": "https://localhost:8080/",
          "height": 408
        },
        "id": "zaE845F0165g",
        "outputId": "9089c707-eb86-4914-f6c2-b17780ed0724"
      },
      "execution_count": 31,
      "outputs": [
        {
          "output_type": "display_data",
          "data": {
            "text/plain": [
              "<Figure size 640x480 with 1 Axes>"
            ],
            "image/png": "[encoded data removed]"
          },
          "metadata": {}
        }
      ]
    },
    {
      "cell_type": "code",
      "source": [
        "#Gráfico de barras com as ocorrências da parte do discurso na Crônica 5 do corpus do Machado de Assis\n",
        "\n",
        "# Calcular o percentual de cada ocorrência\n",
        "total = sum(ocorrencias)\n",
        "percentuais = [f'{(ocorrencia / total) * 100:.1f}%' for ocorrencia in ocorrencias]\n",
        "\n",
        "# Definir a largura das barras\n",
        "largura_barras = 0.4  # Menor largura para aumentar o espaço entre as barras\n",
        "\n",
        "# Gerar gráfico de barras\n",
        "plt.bar(nomes, ocorrencias, width=largura_barras)\n",
        "plt.ylabel('Número de Ocorrências')\n",
        "plt.title('Ocorrências por Categoria')\n",
        "\n",
        "# Adicionar os percentuais em cima das barras\n",
        "for i, ocorrencia in enumerate(ocorrencias):\n",
        "    plt.text(i, ocorrencia + 1, percentuais[i], ha='center', va='bottom')\n",
        "\n",
        "# Exibir o gráfico\n",
        "plt.show()\n"
      ],
      "metadata": {
        "colab": {
          "base_uri": "https://localhost:8080/",
          "height": 453
        },
        "id": "-FMv8E0-3BES",
        "outputId": "dab2d88b-7bff-432c-ac05-32c84014874c"
      },
      "execution_count": 32,
      "outputs": [
        {
          "output_type": "display_data",
          "data": {
            "text/plain": [
              "<Figure size 640x480 with 1 Axes>"
            ],
            "image/png": "[encoded data removed]"
          },
          "metadata": {}
        }
      ]
    },
    {
      "cell_type": "markdown",
      "source": [
        "# Métodos para avaliação de relevância de expressões no corpus\n",
        "\n",
        "Existem diferentes métodos para avaliar a relevância de expressões em determinado conjunto de texto.\n",
        "\n",
        "Aqui vamos ver os seguintes:\n",
        "\n",
        "* **Frequência do termo (TF)** – representa a divisão entre o nº de ocorrências de uma palavra pelo nº total de palavras de um texto.\n",
        "* **Frequência inversa em documentos (IDF)** – indica que a relevância ou potencial informativo de uma palavra é inversamente proporcional à sua frequência num grande conjunto de documentos diferentes.\n",
        "* **Combinação do TF e IDF (TF-IDF)**"
      ],
      "metadata": {
        "id": "KFVtWItx434U"
      }
    },
    {
      "cell_type": "code",
      "source": [
        "#Implementação e exemplos de TF-IDF\n",
        "\n",
        "# Criar uma coleção de documentos\n",
        "obras = list()\n",
        "for i in range(1,10):\n",
        "  obras.append('romance/marm0' + str(i) + '.txt')\n",
        "\n",
        "colecao = list()\n",
        "for obra in obras:\n",
        "  stringona = machado.raw(obra)\n",
        "  palavras = limpar(stringona.lower().split())\n",
        "  colecao.append(palavras)"
      ],
      "metadata": {
        "id": "hxdrf6_-4JRe"
      },
      "execution_count": 33,
      "outputs": []
    },
    {
      "cell_type": "code",
      "source": [
        "# Funções para cálculo do TF-IDF\n",
        "\n",
        "import math\n",
        "\n",
        "def tf(termo, doc):\n",
        "  return colecao[doc].count(termo) / len(colecao[doc])\n",
        "\n",
        "def df(termo):\n",
        "  return len([d for d in colecao if termo in d])\n",
        "\n",
        "def idf(termo):\n",
        "  return math.log10(len(colecao) / df(termo))\n",
        "\n",
        "def tf_idf(termo, doc):\n",
        "  return tf(termo, doc) * (idf(termo))"
      ],
      "metadata": {
        "id": "oEhWBhALTkra"
      },
      "execution_count": 34,
      "outputs": []
    },
    {
      "cell_type": "code",
      "source": [
        "# Testar frequência de palavras em documentos\n",
        "\n",
        "df('que')\n",
        "\n",
        "# Esse resultado mostra que a palavra \"que\" está presente em 9 documentos"
      ],
      "metadata": {
        "colab": {
          "base_uri": "https://localhost:8080/"
        },
        "id": "Rjpxr38HUdZp",
        "outputId": "6848cc36-6027-4c3c-ffdd-75edfd3fa4b6"
      },
      "execution_count": 35,
      "outputs": [
        {
          "output_type": "execute_result",
          "data": {
            "text/plain": [
              "9"
            ]
          },
          "metadata": {},
          "execution_count": 35
        }
      ]
    },
    {
      "cell_type": "code",
      "source": [
        "# Testar frequência de outra palavra\n",
        "\n",
        "df('capitu')\n",
        "\n",
        "# Esse resultado mostra que a palavra \"capitu\" está presente em apenas 1 documento"
      ],
      "metadata": {
        "colab": {
          "base_uri": "https://localhost:8080/"
        },
        "id": "xsid-0bUUtzy",
        "outputId": "cd5f7a40-7688-4959-f261-bcb57e115bf3"
      },
      "execution_count": 36,
      "outputs": [
        {
          "output_type": "execute_result",
          "data": {
            "text/plain": [
              "1"
            ]
          },
          "metadata": {},
          "execution_count": 36
        }
      ]
    },
    {
      "cell_type": "markdown",
      "source": [
        "**Teste da função TF**\n",
        "\n",
        "Essa função recebe dois argumentos, sendo que o segundo identifica o romance do corpus."
      ],
      "metadata": {
        "id": "xVNKEGHtVGZa"
      }
    },
    {
      "cell_type": "code",
      "source": [
        "# Teste da função TF com o romance \"Dom Casmuro\"\n",
        "\n",
        "tf('capitu', 7)\n"
      ],
      "metadata": {
        "colab": {
          "base_uri": "https://localhost:8080/"
        },
        "id": "-mNzLHybVEsk",
        "outputId": "68e48795-f12e-4cae-946b-25f40a6f7b3b"
      },
      "execution_count": 37,
      "outputs": [
        {
          "output_type": "execute_result",
          "data": {
            "text/plain": [
              "0.005223616893791578"
            ]
          },
          "metadata": {},
          "execution_count": 37
        }
      ]
    },
    {
      "cell_type": "code",
      "source": [
        "# Teste da função TF com o romance \"Dom Casmuro\"\n",
        "\n",
        "tf('que', 7)"
      ],
      "metadata": {
        "colab": {
          "base_uri": "https://localhost:8080/"
        },
        "id": "1bCLUYtpVh48",
        "outputId": "6f0adf74-3d11-4d14-b397-9e2f1658c824"
      },
      "execution_count": 38,
      "outputs": [
        {
          "output_type": "execute_result",
          "data": {
            "text/plain": [
              "0.041220482723655305"
            ]
          },
          "metadata": {},
          "execution_count": 38
        }
      ]
    },
    {
      "cell_type": "markdown",
      "source": [
        "**Teste da função IDF com os mesmos termos anteirores**\n",
        "\n",
        "O IDF é uma medida do potencial informativo das palavras, do quão significativas eles são para o texto como um todo."
      ],
      "metadata": {
        "id": "DFz3hukyVpZ0"
      }
    },
    {
      "cell_type": "code",
      "source": [
        "idf('capitu')"
      ],
      "metadata": {
        "colab": {
          "base_uri": "https://localhost:8080/"
        },
        "id": "aHCvaM7UVubp",
        "outputId": "401710ac-a7b6-4dd1-9359-d59c627686cf"
      },
      "execution_count": 39,
      "outputs": [
        {
          "output_type": "execute_result",
          "data": {
            "text/plain": [
              "0.9542425094393249"
            ]
          },
          "metadata": {},
          "execution_count": 39
        }
      ]
    },
    {
      "cell_type": "code",
      "source": [
        "idf('que')"
      ],
      "metadata": {
        "colab": {
          "base_uri": "https://localhost:8080/"
        },
        "id": "w_RR15sNVxEg",
        "outputId": "0fd5468c-aa64-4c2a-dfa2-2521d0363de3"
      },
      "execution_count": 40,
      "outputs": [
        {
          "output_type": "execute_result",
          "data": {
            "text/plain": [
              "0.0"
            ]
          },
          "metadata": {},
          "execution_count": 40
        }
      ]
    },
    {
      "cell_type": "markdown",
      "source": [
        "**Teste da função TF-IDF**\n",
        "\n",
        "Identificar qual informativa é a palavra no contexto específico de cada documento."
      ],
      "metadata": {
        "id": "H5rES8-BWKvR"
      }
    },
    {
      "cell_type": "code",
      "source": [
        "tf_idf('capitu', 1)"
      ],
      "metadata": {
        "colab": {
          "base_uri": "https://localhost:8080/"
        },
        "id": "EiNhSYjYWZRi",
        "outputId": "4dfab75b-f43b-4e92-b3bc-6d24fdd4325e"
      },
      "execution_count": 41,
      "outputs": [
        {
          "output_type": "execute_result",
          "data": {
            "text/plain": [
              "0.0"
            ]
          },
          "metadata": {},
          "execution_count": 41
        }
      ]
    },
    {
      "cell_type": "code",
      "source": [
        "tf_idf('capitu', 7)"
      ],
      "metadata": {
        "colab": {
          "base_uri": "https://localhost:8080/"
        },
        "id": "WPEFxoEdWepU",
        "outputId": "72c47965-7901-41b6-e234-11bfc09be3e7"
      },
      "execution_count": 42,
      "outputs": [
        {
          "output_type": "execute_result",
          "data": {
            "text/plain": [
              "0.004984597293081326"
            ]
          },
          "metadata": {},
          "execution_count": 42
        }
      ]
    },
    {
      "cell_type": "markdown",
      "source": [
        "Note que, no Romance \"Dom Casmurro\" a palavra 'Capitu' possui potencial informativo. Contudo, em outro documento, a informatividade é nula."
      ],
      "metadata": {
        "id": "6g-hyz1dWjMU"
      }
    },
    {
      "cell_type": "code",
      "source": [
        "#Listagem ordenada pela relevância de todas as palavras do romance \"Dom Casmurro\"\n",
        "\n",
        "def mais_relevantes(doc):\n",
        "  lista_total = [(tf_idf(p, doc), p) for p in set (colecao[doc])]\n",
        "\n",
        "  return sorted(lista_total, reverse=True)[:50]"
      ],
      "metadata": {
        "id": "VVnGkz-iWy9P"
      },
      "execution_count": 43,
      "outputs": []
    },
    {
      "cell_type": "code",
      "source": [
        "# Escolher o romance pelo número para chamar a função\n",
        "\n",
        "mr = mais_relevantes(7)"
      ],
      "metadata": {
        "id": "Lxxcq4LDXba0"
      },
      "execution_count": 44,
      "outputs": []
    },
    {
      "cell_type": "code",
      "source": [
        "#Lista das palavras mais relevantes, segundo TF-IDF, no romance \"Dom Casmurro\"\n",
        "\n",
        "print(mr)"
      ],
      "metadata": {
        "colab": {
          "base_uri": "https://localhost:8080/"
        },
        "id": "XFlmorISYBUm",
        "outputId": "74511b49-da31-4b2b-f477-265e2726a1eb"
      },
      "execution_count": 45,
      "outputs": [
        {
          "output_type": "stream",
          "name": "stdout",
          "text": [
            "[(0.004984597293081326, 'capitu'), (0.0016126638301145468, 'escobar'), (0.0012021675824490257, 'seminário'), (0.0008063319150572734, 'justina'), (0.0008063319150572734, 'cosme'), (0.0007623501742359676, 'bentinho'), (0.0006157443714982816, 'pádua'), (0.0005424414701294385, 'sancha'), (0.0005017841062048455, 'ezequiel'), (0.0004544779884868268, 'cabral'), (0.0004398174082130582, 'prima'), (0.0004301573259668042, 'josé'), (0.0004251568279392896, 'agregado'), (0.000337193346296678, 'protonotário'), (0.0003078721857491408, 'manduca'), (0.0001878071651985378, 'padre'), (0.00017592696328522328, 'gurgel'), (0.00017592696328522328, 'fortunata'), (0.0001539360928745704, 'mata-cavalos'), (0.00014879655929669327, 'tio'), (0.00014660580273768607, 'seminarista'), (0.00014049954973735675, 'ressaca'), (0.00013194522246391747, 'ônibus'), (0.00013194522246391747, 'pregão'), (0.00012042818548916292, 'imitar'), (0.00011728464219014885, 'tocha'), (0.00011728464219014885, 'santiago'), (0.00010530870051697051, 'você'), (0.00010262406191638025, 'seminaristas'), (0.00010262406191638025, 'libras'), (0.0001003568212409691, 'apostólico'), (8.796348164261164e-05, 'santíssimo'), (8.796348164261164e-05, 'sanchinha'), (8.796348164261164e-05, 'pálio'), (8.796348164261164e-05, 'padre-nossos'), (8.796348164261164e-05, 'mônica'), (8.796348164261164e-05, 'enfiei'), (8.796348164261164e-05, 'administrador'), (8.657254359080335e-05, 'fiquei'), (8.116175961637814e-05, 'panegírico'), (8.116175961637814e-05, 'medicina'), (8.063319150572734e-05, 'soneto'), (8.028545699277527e-05, 'emoção'), (8.028545699277527e-05, 'embargos'), (7.575097564195294e-05, 'íamos'), (7.330290136884303e-05, 'óleos'), (7.330290136884303e-05, 'trombeta'), (7.330290136884303e-05, 'russos'), (7.330290136884303e-05, 'polêmica'), (7.330290136884303e-05, 'oblíqua')]\n"
          ]
        }
      ]
    },
    {
      "cell_type": "code",
      "source": [
        "# Exibir uma lista somente com as palavras, sem o valor TF-IDF\n",
        "\n",
        "[p for v, p in mr]"
      ],
      "metadata": {
        "colab": {
          "base_uri": "https://localhost:8080/"
        },
        "id": "oA1CvMMSYRns",
        "outputId": "6358871a-44db-412e-9bb9-eefba93fe1c7"
      },
      "execution_count": 46,
      "outputs": [
        {
          "output_type": "execute_result",
          "data": {
            "text/plain": [
              "['capitu',\n",
              " 'escobar',\n",
              " 'seminário',\n",
              " 'justina',\n",
              " 'cosme',\n",
              " 'bentinho',\n",
              " 'pádua',\n",
              " 'sancha',\n",
              " 'ezequiel',\n",
              " 'cabral',\n",
              " 'prima',\n",
              " 'josé',\n",
              " 'agregado',\n",
              " 'protonotário',\n",
              " 'manduca',\n",
              " 'padre',\n",
              " 'gurgel',\n",
              " 'fortunata',\n",
              " 'mata-cavalos',\n",
              " 'tio',\n",
              " 'seminarista',\n",
              " 'ressaca',\n",
              " 'ônibus',\n",
              " 'pregão',\n",
              " 'imitar',\n",
              " 'tocha',\n",
              " 'santiago',\n",
              " 'você',\n",
              " 'seminaristas',\n",
              " 'libras',\n",
              " 'apostólico',\n",
              " 'santíssimo',\n",
              " 'sanchinha',\n",
              " 'pálio',\n",
              " 'padre-nossos',\n",
              " 'mônica',\n",
              " 'enfiei',\n",
              " 'administrador',\n",
              " 'fiquei',\n",
              " 'panegírico',\n",
              " 'medicina',\n",
              " 'soneto',\n",
              " 'emoção',\n",
              " 'embargos',\n",
              " 'íamos',\n",
              " 'óleos',\n",
              " 'trombeta',\n",
              " 'russos',\n",
              " 'polêmica',\n",
              " 'oblíqua']"
            ]
          },
          "metadata": {},
          "execution_count": 46
        }
      ]
    },
    {
      "cell_type": "markdown",
      "source": [
        "Algumas informações interessantes desse grupo de palavras. A maior parte é composta por nomes próprios.\n",
        "\n",
        "Isso é natural porque esses nomes são muito comuns em seu documento em relação ao restante da coleção.\n",
        "\n",
        "Outro ponto interessante é que, enquanto o nome \"Capitu\" aparece na primeira posição, o nome \"Bentinho\" aparece somente na sexta. Isso indica que é de fato o personagem principal do livro."
      ],
      "metadata": {
        "id": "dEbeyezVYzMD"
      }
    },
    {
      "cell_type": "code",
      "source": [
        "# Calcular a relação entre a frequência do nome \"Capitu\" com o nome \"Bentinho\"\n",
        "\n",
        "tf('capitu', 7)/ tf('bentinho', 7)\n",
        "\n",
        "# O resultado mostra que o termo \"Capitu\" é seis vezes mais citado do que o nome \"Bentinho\""
      ],
      "metadata": {
        "colab": {
          "base_uri": "https://localhost:8080/"
        },
        "id": "59Ceu1SJZQt_",
        "outputId": "0337274f-a37b-419a-95ad-1bbf6198aeb6"
      },
      "execution_count": 47,
      "outputs": [
        {
          "output_type": "execute_result",
          "data": {
            "text/plain": [
              "6.538461538461538"
            ]
          },
          "metadata": {},
          "execution_count": 47
        }
      ]
    },
    {
      "cell_type": "code",
      "source": [
        "# Calcular a relação entre a frequência do nome \"Escobar\" com o nome \"Bentinho\"\n",
        "\n",
        "tf('escobar', 7)/ tf('bentinho', 7)\n",
        "\n",
        "# Essa medida mostra talvez as razões dos ciúmes de Bentinho com relação a Escobar."
      ],
      "metadata": {
        "colab": {
          "base_uri": "https://localhost:8080/"
        },
        "id": "3dfbFWyLZrNu",
        "outputId": "a079bbc7-c57b-4a0b-99da-e9ae1af22331"
      },
      "execution_count": 48,
      "outputs": [
        {
          "output_type": "execute_result",
          "data": {
            "text/plain": [
              "2.1153846153846154"
            ]
          },
          "metadata": {},
          "execution_count": 48
        }
      ]
    },
    {
      "cell_type": "markdown",
      "source": [
        "# Modelos Probabilístico de Linguagens\n",
        "\n",
        "Trata-se de modelos capazes de atribuir probilidades a sequências de elementos linguísticos em um certo nível de análise.\n",
        "\n",
        "## Modelo N-Gramas\n",
        "\n",
        "Por meio do modelo de n-grama, conseguimos capturar um certo aspecto sintagmático do corpus, relacionado a sequências de palavras adjacentes, baseando-nos em um certo tipo de probabilidade condicional.\n",
        "\n",
        "De forma geral, podemos dizer que um n-grama é simplesmente uma sequência de 'n' elementos em determinado nível de análise (letras, morfemas, fonemas, etc.).\n",
        "\n",
        "### Modelos de N-Gramas e Cadeias de Markov\n",
        "\n",
        "Cadeias de Markov são processos aleatórios que permitem estimar um evento ou estado futuro com base somente no estado atual do processo, independentemente de seus estados passados.\n",
        "\n",
        "Na análise de N-Gramas, a ideia central é que a ocorrência de uma palavra em uma sequência é condicionada somente pelas n-1 palavras que a antecendem imediatamente.\n",
        "\n",
        "Nesse sentido, desprezam-se influências de palavras mais distantes. Isso é conhecido como **Assunção de Markov**.\n",
        "\n",
        "Deve estar claro, entretanto, que, quanto menor o valor de 'n', menor o poder do modelo de capturar a relevância do contexto anterior para a escolha ou previsão de uma palavra.\n",
        "\n",
        "Por exemplo, um modelo de unigramas é totalmente sensível ao contexto sentencial, refletindo apenas a chance de uma palavra ocorrer em um texto, independente de sua posição.\n",
        "\n",
        "#### Implementação em Python\n",
        "\n",
        "Na seção abaixo, vamos implementar um modelo de bigramas construído a partir de um corpus e aplicá-lo a uma tarefa de previsão de palavras."
      ],
      "metadata": {
        "id": "zgRLsXXc3D0P"
      }
    },
    {
      "cell_type": "code",
      "source": [
        "# Como usaremos expressões regulares e dicionários default, precisaremos das bibliotecas \"re\" e \"collections\"\n",
        "\n",
        "import re\n",
        "from collections import defaultdict\n",
        "\n",
        "# Ler o arquivo txt que usaremos na implementação do modelo\n",
        "\n",
        "corpus_base = ler(\"/content/drive/MyDrive/corpus_bruto.txt\")\n",
        "\n",
        "# Transformar o corpus em uma lista de sentenças\n",
        "\n",
        "# Vamos utilizar uma expressão regular (#) para substituir as pontuações mais frequentes e depois dividiremos as sentenças no (#).\n",
        "\n",
        "corpus_pontuacao = re.sub(r'\\.|\\!|\\?', '#', corpus_base)\n",
        "sents = corpus_pontuacao.split('#')"
      ],
      "metadata": {
        "id": "oU9TcloFe7Om"
      },
      "execution_count": 49,
      "outputs": []
    },
    {
      "cell_type": "markdown",
      "source": [
        "As sentenças criadas anteriormente serão agora convertidas em listas de palavras, que são \"limpas\" posteriormente.\n",
        "\n",
        "As strings receberão os marcadores de início (<s>) e final (</s>)."
      ],
      "metadata": {
        "id": "iqTFmFxehIOY"
      }
    },
    {
      "cell_type": "code",
      "source": [
        "# Dividir sentenças em lista de palavras\n",
        "\n",
        "sents = [['<s>'] + limpar(x.split()) + ['</s>'] for x in sents]"
      ],
      "metadata": {
        "id": "ujPVG7aNiYp3"
      },
      "execution_count": 50,
      "outputs": []
    },
    {
      "cell_type": "markdown",
      "source": [
        "Agora, temos um novo formato para o corpus: sentenças limpas e com marcadores de início e fim. Vamos gravá-lo em um outro arquivo txt, chamado corpus_preparado."
      ],
      "metadata": {
        "id": "4XmP5Jd8j913"
      }
    },
    {
      "cell_type": "code",
      "source": [
        "c_p = open('corpus_preparado.txt', 'w', encoding = 'utf-8')\n",
        "\n",
        "for sentença in sents:\n",
        "  str = ' '.join(sentença)\n",
        "  c_p.write(str+'\\n')\n",
        "c_p.close()"
      ],
      "metadata": {
        "id": "huFH9WpekNwo"
      },
      "execution_count": 51,
      "outputs": []
    },
    {
      "cell_type": "markdown",
      "source": [
        "Em seguida, vamos dividir esse corpus preparado em dois corpora menores: um para treinamento, outro para testes.\n",
        "\n",
        "Vamos reservar 80% dos dados para treinamento e 20% para testes, que é a proporção mais comumente utilizada pelos pesquisadores em linguística computacional.\n",
        "\n",
        "Para isso, criaremos dois novos arquivos txt: corpus_treino e corpus_teste."
      ],
      "metadata": {
        "id": "qeuM5OYbk1Zp"
      }
    },
    {
      "cell_type": "code",
      "source": [
        "corpus_tt = open ('corpus_preparado.txt', 'r', encoding = 'utf-8')\n",
        "c_tt = corpus_tt.readlines()\n",
        "corpus_tt.close()\n",
        "\n",
        "corte = int(len(c_tt) * 0.8) # 80% do tamanho\n",
        "treino = c_tt[:corte]\n",
        "teste = c_tt[corte:]\n",
        "\n",
        "tr = open('corpus_treino.txt', 'w', encoding = 'utf-8')\n",
        "for sent in treino:\n",
        "  tr.write(sent)\n",
        "tr.close()\n",
        "\n",
        "ts = open('corpus_teste.txt', 'w', encoding= 'utf-8')\n",
        "for sent in teste:\n",
        "  ts.write(sent)\n",
        "ts.close()"
      ],
      "metadata": {
        "id": "GMtAiTMvleTv"
      },
      "execution_count": 52,
      "outputs": []
    },
    {
      "cell_type": "markdown",
      "source": [
        "Passaremos agora para a construção do modelo, extraindo do corpus de treinamento o vocabulário e as contagens de ocorrências de seus itens."
      ],
      "metadata": {
        "id": "eCyLILJ7muPu"
      }
    },
    {
      "cell_type": "code",
      "source": [
        "corpus_treino = open('corpus_treino.txt', 'r', encoding='utf-8')\n",
        "c_t = corpus_treino.readlines()\n",
        "corpus_treino.close()\n",
        "\n",
        "vocab = set()\n",
        "contagem = defaultdict(int)\n",
        "for linha in c_t:\n",
        "  sent = linha.split()\n",
        "  for palavra in sent:\n",
        "    vocab |= {palavra}\n",
        "    contagem[palavra] +=1"
      ],
      "metadata": {
        "id": "Jj8_qsLLmyiY"
      },
      "execution_count": 118,
      "outputs": []
    },
    {
      "cell_type": "markdown",
      "source": [
        "Faremos, agora, a filtragem dos hapáx legômena e sua substituição pela string \"< DES >\", representando palavras desconhecidas."
      ],
      "metadata": {
        "id": "Bzh6jrdZnppj"
      }
    },
    {
      "cell_type": "code",
      "source": [
        "hapax = [palavra for palavra in contagem.keys() if contagem [palavra] == 1]\n",
        "hapax = set(hapax)\n",
        "novo_vocab =  vocab - hapax\n",
        "novo_vocab |= {'<DES>'}"
      ],
      "metadata": {
        "id": "C24aPWh-n4v_"
      },
      "execution_count": 54,
      "outputs": []
    },
    {
      "cell_type": "markdown",
      "source": [
        "Estamos prontos para contar os unigramas e bigramas a partir do novo vocabulário e do novo corpus.\n",
        "\n",
        "Vamos, primeiro, criar um extrator dos n-gramas de uma sentença."
      ],
      "metadata": {
        "id": "kUWi8rBIodP6"
      }
    },
    {
      "cell_type": "code",
      "source": [
        "def ngramas (n,sent):\n",
        "  return [tuple(sent[i:i + n]) for i in range(len(sent)-n +1)]"
      ],
      "metadata": {
        "id": "5Vs06sD6orAW"
      },
      "execution_count": 55,
      "outputs": []
    },
    {
      "cell_type": "markdown",
      "source": [
        "Usamos a função \"tuple()\" para criar um objeto imutável. Isso é importante, porque usaremos essas sequências de palavras como chaves em dicionários de n-gramas."
      ],
      "metadata": {
        "id": "NymGQJfppFnM"
      }
    },
    {
      "cell_type": "code",
      "source": [
        "# Testar a função \"ngramas\"\n",
        "\n",
        "lista_str = 'parabéns pra você nesta data querida'.split()\n",
        "ngramas(2, lista_str)"
      ],
      "metadata": {
        "colab": {
          "base_uri": "https://localhost:8080/"
        },
        "id": "W3Zu04QKpXC1",
        "outputId": "cb971b20-eb41-4503-93f3-e48dbfc42b9c"
      },
      "execution_count": 56,
      "outputs": [
        {
          "output_type": "execute_result",
          "data": {
            "text/plain": [
              "[('parabéns', 'pra'),\n",
              " ('pra', 'você'),\n",
              " ('você', 'nesta'),\n",
              " ('nesta', 'data'),\n",
              " ('data', 'querida')]"
            ]
          },
          "metadata": {},
          "execution_count": 56
        }
      ]
    },
    {
      "cell_type": "markdown",
      "source": [
        "Em seguida, vamos criar dois dicionários, um para os unigramas e outro para os bigramas."
      ],
      "metadata": {
        "id": "RhmzQBRJp7l6"
      }
    },
    {
      "cell_type": "code",
      "source": [
        "unigramas = defaultdict(int)\n",
        "bigramas = defaultdict(int)"
      ],
      "metadata": {
        "id": "TqasF9KiqC5J"
      },
      "execution_count": 57,
      "outputs": []
    },
    {
      "cell_type": "markdown",
      "source": [
        "Agora, percorremos o corpus de treinamento, substituindo os hapáx legômena por \"< DES >\" e acrescentando os unigramas e bigramas, com suas respectivas contagens, aos dicionários correspondentes."
      ],
      "metadata": {
        "id": "T_RPrtISqSx0"
      }
    },
    {
      "cell_type": "code",
      "source": [
        "for linha in c_t:\n",
        "  sent = linha.split()\n",
        "\n",
        "  for i in range(len(sent)):\n",
        "    if sent[i] in hapax:\n",
        "      sent[i] = '<DES>'\n",
        "\n",
        "  for x in ngramas (1,sent):\n",
        "    unigramas[x] += 1\n",
        "\n",
        "  for x in ngramas (2,sent):\n",
        "    bigramas[x] += 1"
      ],
      "metadata": {
        "id": "Y67a5Wo0ql-T"
      },
      "execution_count": 58,
      "outputs": []
    },
    {
      "cell_type": "markdown",
      "source": [
        "Por fim, precisamos converter essas contagens em probabilidades.\n",
        "\n",
        "Para isso, implantaremos a técnica de suavização de Laplace, adicionando 1 à contagem real de todos os n-gramas e V (tamanho do vocabulário) aos denominadores das respectivas frações."
      ],
      "metadata": {
        "id": "M3vEzGP2rFj6"
      }
    },
    {
      "cell_type": "code",
      "source": [
        "def prob_uni(x):\n",
        "  C = sum(unigramas.values())\n",
        "  V = len(novo_vocab)\n",
        "  return (unigramas[x] + 1)/ (c + V)\n",
        "\n",
        "def prob_bi(x):\n",
        "  V = len(novo_vocab)\n",
        "  return (bigramas[x] + 1)/ (unigramas[(x[0],)] + V)"
      ],
      "metadata": {
        "id": "gEUZVFimrkdx"
      },
      "execution_count": 59,
      "outputs": []
    },
    {
      "cell_type": "markdown",
      "source": [
        "# Previsor de palavras\n",
        "\n",
        "Vamos agora criar um previsor de palavras que se vale do modelo de bigramas para prever a próxima palavra a ser digitada em um texto em função da palavra imediatamente anterior."
      ],
      "metadata": {
        "id": "G3X5dLTKsHgf"
      }
    },
    {
      "cell_type": "code",
      "source": [
        "def prever(palavra):\n",
        "  lista = [ch for ch in bigramas.keys() if ch[0] == palavra]\n",
        "  ordem = sorted(lista, key=lambda x:prob_bi(x), reverse = True)\n",
        "  topo = ordem[0][1]\n",
        "  return topo\n",
        "\n",
        "#Teste do previsor de palavras\n",
        "\n",
        "prever(\"o\")"
      ],
      "metadata": {
        "colab": {
          "base_uri": "https://localhost:8080/",
          "height": 35
        },
        "id": "qAxfgLvrsy0d",
        "outputId": "6417ad5c-83a5-4c66-b12b-677f53494dd9"
      },
      "execution_count": 60,
      "outputs": [
        {
          "output_type": "execute_result",
          "data": {
            "text/plain": [
              "'gato'"
            ],
            "application/vnd.google.colaboratory.intrinsic+json": {
              "type": "string"
            }
          },
          "metadata": {},
          "execution_count": 60
        }
      ]
    },
    {
      "cell_type": "markdown",
      "source": [
        "# Implementação de um **classificador bayesiano ingênuo**\n",
        "\n",
        "Um classificador é uma ferramenta que analisa dados (inputs) em determinada classe. Por exemplo, identifica se determinada mensagem é ou não um spam.\n",
        "\n",
        "Um classificador bayesiano é aquele que é desenvolvido com base na Regra de Bayes, uma fórmula usada para atualizar a probabilidade de uma hipótese à medida que novas evidências são apresentadas. Ela nos ajuda a entender como as novas informações devem mudar nossa confiança em uma crença inicial.\n",
        "\n",
        "Já um **classificador bayesiano ingênuo** é aquele que, ademais de ser basedada na Regra de Bayes, assume que todas as características (ou atributos) de um dado são independentes entre si, dada a classe. Apesar dessa suposição ser raramente verdadeira na prática, o classificador ainda funciona bem em muitos problemas práticos.\n",
        "\n",
        "Vejamos abaixo como implementar essa ferramenta em Python."
      ],
      "metadata": {
        "id": "c2NY45ju58-Z"
      }
    },
    {
      "cell_type": "code",
      "source": [
        "# Importar bibliotecas e declarar variáveis\n",
        "\n",
        "from collections import defaultdict\n",
        "\n",
        "spams = 0\n",
        "nao_spams = 0\n",
        "em_spam = defaultdict(int)\n",
        "em_nao_spam = defaultdict(int)"
      ],
      "metadata": {
        "id": "2P4rzyzS7f1L"
      },
      "execution_count": 130,
      "outputs": []
    },
    {
      "cell_type": "markdown",
      "source": [
        "A essas variáveis declaradas, acrescentaremos mais uma, que guardará o vocabulário relevante para a classificação (extraído do corpus de treinamento)."
      ],
      "metadata": {
        "id": "EbU-OIbp77cR"
      }
    },
    {
      "cell_type": "code",
      "source": [
        "vocab = set()"
      ],
      "metadata": {
        "id": "wl367rOL8I6S"
      },
      "execution_count": 131,
      "outputs": []
    },
    {
      "cell_type": "markdown",
      "source": [
        "Em seguida, vamos definir uma função que extrai as palavras de uma mensagem (string)."
      ],
      "metadata": {
        "id": "VXGimsgb8Lxl"
      }
    },
    {
      "cell_type": "code",
      "source": [
        "def atributos(mensagem):\n",
        "  palavras = mensagem.split()\n",
        "  palavras = limpar(palavras)\n",
        "\n",
        "  return set(palavras)"
      ],
      "metadata": {
        "id": "w1gLxzwL8U9S"
      },
      "execution_count": 132,
      "outputs": []
    },
    {
      "cell_type": "markdown",
      "source": [
        "## Treinamento do modelo\n",
        "\n",
        "Para o treinamento propriamente dito, criamos um corpus na forma de texto bruto (txt) contendo dez mensagens já classificadas como spam (1) ou não spam (0):\n",
        "\n",
        "* *0, reunião: consultório amanhã*\n",
        "* *0, pesquisas sobre viagra*\n",
        "* *0, reunião da diretoria*\n",
        "* *0, consultório: ligar imediatamente*\n",
        "* *1, viagra: preço imbatível!*\n",
        "* *1, sexo com viagra*\n",
        "* *1, vendemos viagra*\n",
        "* *1, sexo: satisfação garantida*\n",
        "* *1, viagra: bom preço é aqui!*\n",
        "* *1, viagra: satisfação garantida*\n",
        "\n",
        "A partir disso, o primeiro passo é transformar a linha em uma string através da função str(), extraindo, em seguida, a classificação (expressa pelo primeiro caractere de cada frase (0 ou 1) e o texto da mensagem (do terceiro caractere em diante.\n",
        "\n",
        "A partir de então, vamos atualizar os valores das variáveis que definimos anteriormente."
      ],
      "metadata": {
        "id": "Hjp4IBgK92Iw"
      }
    },
    {
      "cell_type": "code",
      "source": [
        "# Preparação dos dados e contagens de atributos\n",
        "\n",
        "with open('/content/drive/MyDrive/corpus_treinamento.txt', 'r', encoding='utf-8') as corpus_treinamento:\n",
        "    for dado in corpus_treinamento:\n",
        "        classe, texto = dado.split(',', 1)\n",
        "        texto = texto.strip()\n",
        "        palavras = atributos(texto)\n",
        "        vocab |= palavras\n",
        "\n",
        "        if classe.strip() == '1':\n",
        "            spams += 1\n",
        "            for x in palavras:\n",
        "                em_spam[x] += 1\n",
        "        elif classe.strip() == '0':\n",
        "            nao_spams += 1\n",
        "            for x in palavras:\n",
        "                em_nao_spam[x] += 1\n",
        "\n"
      ],
      "metadata": {
        "id": "Fpx9ZdbN-7e_"
      },
      "execution_count": 137,
      "outputs": []
    },
    {
      "cell_type": "markdown",
      "source": [
        "Para finalizar o modelo, basta converter as contagens em probabilidade via MLE (Estimativa de Máxima Verossimelhança).\n",
        "\n",
        "O MLE é uma maneira de encontrar o melhor valor para um parâmetro que torna os dados que você observa mais prováveis. Pense nisso como encontrar a melhor explicação para os dados que você tem.\n",
        "\n",
        "Além disso, para evitar probalidades iguais a zero para palavras que não ocorreram durante o treinamento (o que poderiam desbalancear o modelo), vamos suavizar, adicionando um valor positivo às contagens efetivamente observadas."
      ],
      "metadata": {
        "id": "ro1vDypNA9ji"
      }
    },
    {
      "cell_type": "code",
      "source": [
        "# Suavização do classificador\n",
        "\n",
        "k = 1\n",
        "\n",
        "p_spam = (spams + 2 * k) / (spams + nao_spams + 4 * k)\n",
        "p_nao_spam = (nao_spams + 2 * k) / (spams + nao_spams + 4 * k)\n",
        "\n",
        "def p_em_spam(palavra):\n",
        "    return (em_spam.get(palavra, 0) + k) / (spams + 2 * k)\n",
        "\n",
        "def p_em_nao_spam(palavra):\n",
        "    return (em_nao_spam.get(palavra, 0) + k) / (nao_spams + 2 * k)"
      ],
      "metadata": {
        "id": "y7VP_lyrB0f3"
      },
      "execution_count": 138,
      "outputs": []
    },
    {
      "cell_type": "markdown",
      "source": [
        "Antes de proseguirmos, é importante destacar duas técnicas que estamos usando.\n",
        "\n",
        "O *defaultdict* é útil porque automaticamente inicializa qualquer chave não existente com um valor padrão (como zero).\n",
        "\n",
        "Dessa forma, qualquer palavra que não esteja presente em uma das classes automaticamente receberá uma contagem de zero. Isso simplifica o código porque não precisamos verificar a existência da palavra antes de consultar sua contagem.\n",
        "\n",
        "Segundo, se o valor no dicionário for mesmo zero, ele passará automaticamente a ser k, graças à suavização. Com isso, evitamos zerar as multiplicações de probabilidades.\n",
        "\n",
        "Dito isso, vamos agora ao definição do classificador das mensagens."
      ],
      "metadata": {
        "id": "jrNXBodsCuZa"
      }
    },
    {
      "cell_type": "code",
      "source": [
        "# Criar o classificador de mensagens\n",
        "\n",
        "def classificar(mensagem):\n",
        "    score_spam = p_spam\n",
        "    score_nao_spam = p_nao_spam\n",
        "\n",
        "    for palavra in vocab:\n",
        "        if palavra in atributos(mensagem):\n",
        "            score_spam *= p_em_spam(palavra)\n",
        "            score_nao_spam *= p_em_nao_spam(palavra)\n",
        "        else:\n",
        "            score_spam *= (1 - p_em_spam(palavra))\n",
        "            score_nao_spam *= (1 - p_em_nao_spam(palavra))\n",
        "\n",
        "    if score_spam > score_nao_spam:\n",
        "        return 'spam'\n",
        "    else:\n",
        "        return 'não spam'\n"
      ],
      "metadata": {
        "id": "UL-pHHqVEGvB"
      },
      "execution_count": 139,
      "outputs": []
    },
    {
      "cell_type": "code",
      "source": [
        "# Usando o classificador\n",
        "\n",
        "msg1 = 'viagra com bom preço: entregamos em seu consultório'\n",
        "\n",
        "print(\"Mensagem 1:\", classificar(msg1))\n",
        "\n",
        "msg2 = 'pesquisas sobre viagra: reunião confirmada no consultório amanhã'\n",
        "\n",
        "print(\"Mensagem 2:\", classificar(msg2))"
      ],
      "metadata": {
        "colab": {
          "base_uri": "https://localhost:8080/"
        },
        "id": "nHcD2_Z0FIFT",
        "outputId": "6b3089b4-f6ea-45ef-921a-e58fd4b5db95"
      },
      "execution_count": 140,
      "outputs": [
        {
          "output_type": "stream",
          "name": "stdout",
          "text": [
            "Mensagem 1: spam\n",
            "Mensagem 2: não spam\n"
          ]
        }
      ]
    }
  ]
}